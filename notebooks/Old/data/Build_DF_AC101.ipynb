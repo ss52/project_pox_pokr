{
 "cells": [
  {
   "cell_type": "markdown",
   "metadata": {},
   "source": [
    "# Подготовка данных по автоклаву AC101"
   ]
  },
  {
   "cell_type": "code",
   "execution_count": 1,
   "metadata": {},
   "outputs": [],
   "source": [
    "import pandas as pd\n",
    "import numpy as np\n",
    "import matplotlib.pyplot as plt\n",
    "import seaborn as sns\n",
    "\n",
    "from pathlib import Path\n",
    "\n",
    "from datetime import datetime"
   ]
  },
  {
   "cell_type": "markdown",
   "metadata": {},
   "source": [
    "Подготовленные исходные данные"
   ]
  },
  {
   "cell_type": "code",
   "execution_count": 4,
   "metadata": {},
   "outputs": [],
   "source": [
    "\n",
    "ac_data = \"merge\\автоклавы, сорт. по времени\\merge101sortedbydate.xlsx\"\n",
    "chem_in = \"merge\\хим. анализ\\!chem баки питания.xlsx\"\n",
    "chem_out = \"merge\\хим. анализ\\!chem окисленная пульпа.xlsx\"\n",
    "chem_fe2 = \"merge\\хим. анализ\\!chem Fe2+.xlsx\""
   ]
  },
  {
   "cell_type": "code",
   "execution_count": 5,
   "metadata": {},
   "outputs": [],
   "source": [
    "WORK_DIR = 'working_data'"
   ]
  },
  {
   "cell_type": "code",
   "execution_count": 6,
   "metadata": {},
   "outputs": [],
   "source": [
    "def file_save(df: pd.DataFrame, folder: str, name: str) -> None:\n",
    "    comp = {\n",
    "        'method': 'zip',\n",
    "        'archive_name': 'out.csv'\n",
    "    }\n",
    "\n",
    "    filepath = Path(f'./{folder}/{name}.zip')\n",
    "\n",
    "    df.to_csv(filepath, compression=comp)"
   ]
  },
  {
   "cell_type": "markdown",
   "metadata": {},
   "source": [
    "## Подготовка данных"
   ]
  },
  {
   "cell_type": "markdown",
   "metadata": {},
   "source": [
    "### Данные АСУТП"
   ]
  },
  {
   "cell_type": "code",
   "execution_count": 57,
   "metadata": {},
   "outputs": [],
   "source": [
    "df_ac = pd.read_excel(ac_data, index_col=1, parse_dates=True)\n",
    "df_ac.drop(\"Unnamed: 0\", axis=1, inplace=True)"
   ]
  },
  {
   "cell_type": "code",
   "execution_count": 58,
   "metadata": {},
   "outputs": [
    {
     "data": {
      "text/plain": [
       "320PU101             17\n",
       "320PU103             17\n",
       "320RC101DIC02        17\n",
       "330AC101FI06         17\n",
       "330AC101FI07         17\n",
       "330AC101FI08         17\n",
       "330AC101FI09         17\n",
       "330AC101FI10         17\n",
       "330AC101FI51         17\n",
       "330AC101FI52         17\n",
       "330AC101FIC40        17\n",
       "330AC101FICZ01       17\n",
       "330AC101FICZ02       17\n",
       "330AC101FICZ03       17\n",
       "330AC101FICZ04       17\n",
       "330AC101FICZ05       17\n",
       "330AC101LICZ01       17\n",
       "330AC101LICZ01.1     17\n",
       "330AC101LICZ01.2     17\n",
       "330AC101PI64         17\n",
       "330AC101PI65         17\n",
       "330AC101PIC63A       17\n",
       "330AC101PIC63A.1     17\n",
       "330AC101PIZ61        17\n",
       "330AC101TIC01        17\n",
       "330AC101TIC02        17\n",
       "330AC101TIC03        17\n",
       "330AC101TIC04        17\n",
       "330AC101TIC05        17\n",
       "330AC101TIZ61        17\n",
       "330PT101PIZ01        17\n",
       "330TK101LIC01        17\n",
       "330TK101PI11         17\n",
       "330TK101TI03         17\n",
       "330TK101TIC02        17\n",
       "330TK102LIC01        17\n",
       "330TK102PI02         17\n",
       "330TK102TIC02        17\n",
       "380HX101FIC01        17\n",
       "380HX101LIC01        17\n",
       "380HX101PIC03        17\n",
       " OXYGEN/OxyPurity    17\n",
       "OXYGEN/OxyPurityB    17\n",
       "dtype: int64"
      ]
     },
     "execution_count": 58,
     "metadata": {},
     "output_type": "execute_result"
    }
   ],
   "source": [
    "df_ac.isna().sum()"
   ]
  },
  {
   "cell_type": "markdown",
   "metadata": {},
   "source": [
    "Уберем пропуски"
   ]
  },
  {
   "cell_type": "code",
   "execution_count": 59,
   "metadata": {},
   "outputs": [],
   "source": [
    "df_ac.dropna(inplace=True)"
   ]
  },
  {
   "cell_type": "markdown",
   "metadata": {},
   "source": [
    "Усредним все данные с 10 минутных до часовых. Для дальнейшей стыковки с данными ХА."
   ]
  },
  {
   "cell_type": "code",
   "execution_count": 60,
   "metadata": {},
   "outputs": [],
   "source": [
    "df_ac_1h = df_ac.resample('H').mean()"
   ]
  },
  {
   "cell_type": "code",
   "execution_count": 61,
   "metadata": {},
   "outputs": [
    {
     "name": "stdout",
     "output_type": "stream",
     "text": [
      "<class 'pandas.core.frame.DataFrame'>\n",
      "DatetimeIndex: 26298 entries, 2019-01-01 00:00:00 to 2021-12-31 17:00:00\n",
      "Freq: H\n",
      "Data columns (total 43 columns):\n",
      " #   Column             Non-Null Count  Dtype  \n",
      "---  ------             --------------  -----  \n",
      " 0   320PU101           24623 non-null  float64\n",
      " 1   320PU103           24623 non-null  float64\n",
      " 2   320RC101DIC02      24623 non-null  float64\n",
      " 3   330AC101FI06       24623 non-null  float64\n",
      " 4   330AC101FI07       24623 non-null  float64\n",
      " 5   330AC101FI08       24623 non-null  float64\n",
      " 6   330AC101FI09       24623 non-null  float64\n",
      " 7   330AC101FI10       24623 non-null  float64\n",
      " 8   330AC101FI51       24623 non-null  float64\n",
      " 9   330AC101FI52       24623 non-null  float64\n",
      " 10  330AC101FIC40      24623 non-null  float64\n",
      " 11  330AC101FICZ01     24623 non-null  float64\n",
      " 12  330AC101FICZ02     24623 non-null  float64\n",
      " 13  330AC101FICZ03     24623 non-null  float64\n",
      " 14  330AC101FICZ04     24623 non-null  float64\n",
      " 15  330AC101FICZ05     24623 non-null  float64\n",
      " 16  330AC101LICZ01     24623 non-null  float64\n",
      " 17  330AC101LICZ01.1   24623 non-null  float64\n",
      " 18  330AC101LICZ01.2   24623 non-null  float64\n",
      " 19  330AC101PI64       24623 non-null  float64\n",
      " 20  330AC101PI65       24623 non-null  float64\n",
      " 21  330AC101PIC63A     24623 non-null  float64\n",
      " 22  330AC101PIC63A.1   24623 non-null  float64\n",
      " 23  330AC101PIZ61      24623 non-null  float64\n",
      " 24  330AC101TIC01      24623 non-null  float64\n",
      " 25  330AC101TIC02      24623 non-null  float64\n",
      " 26  330AC101TIC03      24623 non-null  float64\n",
      " 27  330AC101TIC04      24623 non-null  float64\n",
      " 28  330AC101TIC05      24623 non-null  float64\n",
      " 29  330AC101TIZ61      24623 non-null  float64\n",
      " 30  330PT101PIZ01      24623 non-null  float64\n",
      " 31  330TK101LIC01      24623 non-null  float64\n",
      " 32  330TK101PI11       24623 non-null  float64\n",
      " 33  330TK101TI03       24623 non-null  float64\n",
      " 34  330TK101TIC02      24623 non-null  float64\n",
      " 35  330TK102LIC01      24623 non-null  float64\n",
      " 36  330TK102PI02       24623 non-null  float64\n",
      " 37  330TK102TIC02      24623 non-null  float64\n",
      " 38  380HX101FIC01      24623 non-null  float64\n",
      " 39  380HX101LIC01      24623 non-null  float64\n",
      " 40  380HX101PIC03      24623 non-null  float64\n",
      " 41   OXYGEN/OxyPurity  24623 non-null  float64\n",
      " 42  OXYGEN/OxyPurityB  24623 non-null  float64\n",
      "dtypes: float64(43)\n",
      "memory usage: 8.8 MB\n"
     ]
    }
   ],
   "source": [
    "df_ac_1h.info()"
   ]
  },
  {
   "cell_type": "markdown",
   "metadata": {},
   "source": [
    "Некоторые даты пропущены в данных, уберем пропуски еще раз."
   ]
  },
  {
   "cell_type": "code",
   "execution_count": 62,
   "metadata": {},
   "outputs": [],
   "source": [
    "df_ac_1h.dropna(inplace=True)"
   ]
  },
  {
   "cell_type": "markdown",
   "metadata": {},
   "source": [
    "### Данные исходного ХА по бакам питания"
   ]
  },
  {
   "cell_type": "code",
   "execution_count": 63,
   "metadata": {},
   "outputs": [],
   "source": [
    "df_chem_in = pd.read_excel(chem_in, index_col=0, parse_dates=True, usecols=\"B:H\")\n",
    "df_chem_in = df_chem_in.apply(pd.to_numeric, errors='coerce')\n",
    "df_chem_in.fillna(0, inplace=True)"
   ]
  },
  {
   "cell_type": "code",
   "execution_count": 64,
   "metadata": {},
   "outputs": [
    {
     "data": {
      "text/html": [
       "<div>\n",
       "<style scoped>\n",
       "    .dataframe tbody tr th:only-of-type {\n",
       "        vertical-align: middle;\n",
       "    }\n",
       "\n",
       "    .dataframe tbody tr th {\n",
       "        vertical-align: top;\n",
       "    }\n",
       "\n",
       "    .dataframe thead th {\n",
       "        text-align: right;\n",
       "    }\n",
       "</style>\n",
       "<table border=\"1\" class=\"dataframe\">\n",
       "  <thead>\n",
       "    <tr style=\"text-align: right;\">\n",
       "      <th></th>\n",
       "      <th>320 RC-101 S Fe</th>\n",
       "      <th>320 RC-101 S Sобщ</th>\n",
       "      <th>320 RC-101 S Sso42-</th>\n",
       "      <th>320 RC-101 S As</th>\n",
       "      <th>320 RC-101 S Сорг</th>\n",
       "      <th>320 RC-101 S Собщ</th>\n",
       "    </tr>\n",
       "    <tr>\n",
       "      <th>Timestamp</th>\n",
       "      <th></th>\n",
       "      <th></th>\n",
       "      <th></th>\n",
       "      <th></th>\n",
       "      <th></th>\n",
       "      <th></th>\n",
       "    </tr>\n",
       "  </thead>\n",
       "  <tbody>\n",
       "    <tr>\n",
       "      <th>2018-12-01 09:00:00</th>\n",
       "      <td>27.10</td>\n",
       "      <td>25.4</td>\n",
       "      <td>0.0</td>\n",
       "      <td>8.90</td>\n",
       "      <td>0.47</td>\n",
       "      <td>1.34</td>\n",
       "    </tr>\n",
       "    <tr>\n",
       "      <th>2018-12-02 09:00:00</th>\n",
       "      <td>25.99</td>\n",
       "      <td>26.9</td>\n",
       "      <td>0.0</td>\n",
       "      <td>7.95</td>\n",
       "      <td>0.50</td>\n",
       "      <td>1.33</td>\n",
       "    </tr>\n",
       "    <tr>\n",
       "      <th>2018-12-02 13:00:00</th>\n",
       "      <td>25.78</td>\n",
       "      <td>27.2</td>\n",
       "      <td>0.0</td>\n",
       "      <td>7.95</td>\n",
       "      <td>0.48</td>\n",
       "      <td>1.32</td>\n",
       "    </tr>\n",
       "    <tr>\n",
       "      <th>2018-12-02 17:00:00</th>\n",
       "      <td>26.71</td>\n",
       "      <td>26.2</td>\n",
       "      <td>0.0</td>\n",
       "      <td>8.38</td>\n",
       "      <td>0.43</td>\n",
       "      <td>1.22</td>\n",
       "    </tr>\n",
       "    <tr>\n",
       "      <th>2018-12-03 20:00:00</th>\n",
       "      <td>0.00</td>\n",
       "      <td>25.9</td>\n",
       "      <td>0.0</td>\n",
       "      <td>8.79</td>\n",
       "      <td>0.64</td>\n",
       "      <td>1.10</td>\n",
       "    </tr>\n",
       "  </tbody>\n",
       "</table>\n",
       "</div>"
      ],
      "text/plain": [
       "                     320 RC-101 S Fe   320 RC-101 S Sобщ  320 RC-101 S Sso42-  \\\n",
       "Timestamp                                                                       \n",
       "2018-12-01 09:00:00             27.10               25.4                  0.0   \n",
       "2018-12-02 09:00:00             25.99               26.9                  0.0   \n",
       "2018-12-02 13:00:00             25.78               27.2                  0.0   \n",
       "2018-12-02 17:00:00             26.71               26.2                  0.0   \n",
       "2018-12-03 20:00:00              0.00               25.9                  0.0   \n",
       "\n",
       "                     320 RC-101 S As  320 RC-101 S Сорг  320 RC-101 S Собщ  \n",
       "Timestamp                                                                   \n",
       "2018-12-01 09:00:00             8.90               0.47               1.34  \n",
       "2018-12-02 09:00:00             7.95               0.50               1.33  \n",
       "2018-12-02 13:00:00             7.95               0.48               1.32  \n",
       "2018-12-02 17:00:00             8.38               0.43               1.22  \n",
       "2018-12-03 20:00:00             8.79               0.64               1.10  "
      ]
     },
     "execution_count": 64,
     "metadata": {},
     "output_type": "execute_result"
    }
   ],
   "source": [
    "df_chem_in.head()"
   ]
  },
  {
   "cell_type": "code",
   "execution_count": 65,
   "metadata": {},
   "outputs": [],
   "source": [
    "df_chem_in_1h = df_chem_in.resample('H', convention='start').first()"
   ]
  },
  {
   "cell_type": "code",
   "execution_count": 66,
   "metadata": {},
   "outputs": [
    {
     "name": "stdout",
     "output_type": "stream",
     "text": [
      "<class 'pandas.core.frame.DataFrame'>\n",
      "DatetimeIndex: 29075 entries, 2018-12-01 09:00:00 to 2022-03-26 19:00:00\n",
      "Freq: H\n",
      "Data columns (total 6 columns):\n",
      " #   Column               Non-Null Count  Dtype  \n",
      "---  ------               --------------  -----  \n",
      " 0   320 RC-101 S Fe      1502 non-null   float64\n",
      " 1   320 RC-101 S Sобщ    1502 non-null   float64\n",
      " 2   320 RC-101 S Sso42-  1502 non-null   float64\n",
      " 3   320 RC-101 S As      1502 non-null   float64\n",
      " 4   320 RC-101 S Сорг    1502 non-null   float64\n",
      " 5   320 RC-101 S Собщ    1502 non-null   float64\n",
      "dtypes: float64(6)\n",
      "memory usage: 1.6 MB\n"
     ]
    }
   ],
   "source": [
    "df_chem_in_1h.info()"
   ]
  },
  {
   "cell_type": "code",
   "execution_count": 67,
   "metadata": {},
   "outputs": [],
   "source": [
    "cols = ['Fe', 'Stot', 'SO4', 'As', 'Corg', 'Ctot']\n",
    "df_chem_in_1h.columns = cols"
   ]
  },
  {
   "cell_type": "markdown",
   "metadata": {},
   "source": [
    "Приведем даты массивов к одному времени. Возьмем ХА только за те дни, что есть данные с АСУТП"
   ]
  },
  {
   "cell_type": "code",
   "execution_count": 68,
   "metadata": {},
   "outputs": [],
   "source": [
    "# min_date = df_ac_1h.index.min()\n",
    "# max_date = df_ac_1h.index.max()\n",
    "\n",
    "min_date = datetime.fromisoformat('2019-01-01 00:00:00')\n",
    "max_date = datetime.fromisoformat('2021-12-31 17:00:00')\n",
    "\n",
    "df_chem_in_1h = df_chem_in_1h[min_date:max_date]"
   ]
  },
  {
   "cell_type": "markdown",
   "metadata": {},
   "source": [
    "Уберем нулевые значения, а вместо них поставим np.nan"
   ]
  },
  {
   "cell_type": "code",
   "execution_count": 69,
   "metadata": {},
   "outputs": [],
   "source": [
    "df_chem_in_1h.replace({0: np.NaN}, inplace=True)"
   ]
  },
  {
   "cell_type": "markdown",
   "metadata": {},
   "source": [
    "### Данные ХА по Fe2+"
   ]
  },
  {
   "cell_type": "code",
   "execution_count": 70,
   "metadata": {},
   "outputs": [],
   "source": [
    "df_chem_fe2 = pd.read_excel(chem_fe2, index_col=0, parse_dates=True, usecols=\"B:C\")\n",
    "df_chem_fe2 = df_chem_fe2.apply(pd.to_numeric, errors='coerce')\n",
    "df_chem_fe2.fillna(0, inplace=True)"
   ]
  },
  {
   "cell_type": "code",
   "execution_count": 71,
   "metadata": {},
   "outputs": [],
   "source": [
    "df_chem_fe2_1h = df_chem_fe2.resample('H').first()"
   ]
  },
  {
   "cell_type": "code",
   "execution_count": 72,
   "metadata": {},
   "outputs": [
    {
     "name": "stdout",
     "output_type": "stream",
     "text": [
      "<class 'pandas.core.frame.DataFrame'>\n",
      "DatetimeIndex: 29237 entries, 2018-11-29 15:00:00 to 2022-03-31 19:00:00\n",
      "Freq: H\n",
      "Data columns (total 1 columns):\n",
      " #   Column             Non-Null Count  Dtype  \n",
      "---  ------             --------------  -----  \n",
      " 0   330-ТК-102 L Fe2+  14781 non-null  float64\n",
      "dtypes: float64(1)\n",
      "memory usage: 456.8 KB\n"
     ]
    }
   ],
   "source": [
    "df_chem_fe2_1h.info()"
   ]
  },
  {
   "cell_type": "code",
   "execution_count": 73,
   "metadata": {},
   "outputs": [],
   "source": [
    "df_chem_fe2_1h = df_chem_fe2_1h[min_date:max_date]"
   ]
  },
  {
   "cell_type": "code",
   "execution_count": 74,
   "metadata": {},
   "outputs": [],
   "source": [
    "df_chem_fe2_1h.fillna(method='ffill', inplace=True)"
   ]
  },
  {
   "cell_type": "code",
   "execution_count": 75,
   "metadata": {},
   "outputs": [],
   "source": [
    "cols = ['Fe2+']\n",
    "df_chem_fe2_1h.columns = cols"
   ]
  },
  {
   "cell_type": "markdown",
   "metadata": {},
   "source": [
    "## Данные ОТК по плотностям твердого и питания автоклава"
   ]
  },
  {
   "cell_type": "code",
   "execution_count": 10,
   "metadata": {},
   "outputs": [],
   "source": [
    "path_19 = r\"merge\\Nikitos19.xlsx\"\n",
    "path_20 = r\"merge\\Nikitos20.xlsx\"\n",
    "path_21 = r\"merge\\Nikitos21.xlsx\"\n",
    "\n",
    "ds_19 = pd.read_excel(path_19, sheet_name='AC101', usecols='B:D', index_col=0, parse_dates=True)\n",
    "ds_20 = pd.read_excel(path_20, sheet_name='AC101', usecols='B:D', index_col=0, parse_dates=True)\n",
    "ds_21 = pd.read_excel(path_21, sheet_name='AC101', usecols='B:D', index_col=0, parse_dates=True)"
   ]
  },
  {
   "cell_type": "code",
   "execution_count": 11,
   "metadata": {},
   "outputs": [],
   "source": [
    "ds_full = pd.concat([ds_19, ds_20, ds_21])"
   ]
  },
  {
   "cell_type": "code",
   "execution_count": 12,
   "metadata": {},
   "outputs": [],
   "source": [
    "assert(ds_19.shape[0] + ds_20.shape[0] + ds_21.shape[0] == ds_full.shape[0])"
   ]
  },
  {
   "cell_type": "code",
   "execution_count": 13,
   "metadata": {},
   "outputs": [],
   "source": [
    "ds_full = ds_full.apply(pd.to_numeric, errors='coerce')"
   ]
  },
  {
   "cell_type": "code",
   "execution_count": 14,
   "metadata": {},
   "outputs": [],
   "source": [
    "ds_full_1h = ds_full.resample('H', convention='start').first()"
   ]
  },
  {
   "cell_type": "code",
   "execution_count": 15,
   "metadata": {},
   "outputs": [
    {
     "name": "stdout",
     "output_type": "stream",
     "text": [
      "<class 'pandas.core.frame.DataFrame'>\n",
      "DatetimeIndex: 25573 entries, 2019-01-01 07:00:00 to 2021-12-01 19:00:00\n",
      "Data columns (total 2 columns):\n",
      " #   Column  Non-Null Count  Dtype  \n",
      "---  ------  --------------  -----  \n",
      " 0   D(S)    1682 non-null   float64\n",
      " 1   D(SL)   1142 non-null   float64\n",
      "dtypes: float64(2)\n",
      "memory usage: 599.4 KB\n"
     ]
    }
   ],
   "source": [
    "ds_full_1h.info()"
   ]
  },
  {
   "cell_type": "markdown",
   "metadata": {},
   "source": [
    "## Финальные проверки массивов данных"
   ]
  },
  {
   "cell_type": "code",
   "execution_count": 231,
   "metadata": {},
   "outputs": [],
   "source": [
    "# assert(len(df_chem_in_1h) == len(df_ac_1h))\n",
    "# assert(len(df_chem_fe2_1h) == len(df_ac_1h))"
   ]
  },
  {
   "cell_type": "code",
   "execution_count": 82,
   "metadata": {},
   "outputs": [
    {
     "name": "stdout",
     "output_type": "stream",
     "text": [
      "Начальная дата: 2019-01-01 00:00:00, конечная дата: 2021-12-31 17:00:00.\n",
      "Данные автоклава от: 2019-01-01 00:00:00 до 2021-12-31 17:00:00\n",
      "Данные баков питания от: 2019-01-01 00:00:00 до 2021-12-31 17:00:00\n",
      "Данные по железу 2+ от: 2019-01-01 00:00:00 до 2021-12-31 17:00:00\n",
      "Данные по плотности в баках питания от: 2019-01-01 07:00:00 до 2021-12-01 19:00:00\n",
      "Число точек по автоклаву 24623, по бакам питания 26298, по железу 26298 и по плотности 25573\n"
     ]
    }
   ],
   "source": [
    "print(f'Начальная дата: {min_date}, конечная дата: {max_date}.')\n",
    "\n",
    "print(f'Данные автоклава от: {df_ac_1h.index.min()} до {df_ac_1h.index.max()}')\n",
    "print(f'Данные баков питания от: {df_chem_in_1h.index.min()} до {df_chem_in_1h.index.max()}')\n",
    "print(f'Данные по железу 2+ от: {df_chem_fe2_1h.index.min()} до {df_chem_fe2_1h.index.max()}')\n",
    "print(f'Данные по плотности в баках питания от: {ds_full_1h.index.min()} до {ds_full_1h.index.max()}')\n",
    "\n",
    "\n",
    "print(f'Число точек по автоклаву {len(df_ac_1h)}, по бакам питания {len(df_chem_in_1h)}, по железу {len(df_chem_fe2_1h)} и по плотности {len(ds_full_1h)}')"
   ]
  },
  {
   "cell_type": "markdown",
   "metadata": {},
   "source": [
    "## Сохранение данных"
   ]
  },
  {
   "cell_type": "code",
   "execution_count": 60,
   "metadata": {},
   "outputs": [],
   "source": [
    "file_save(df_ac_1h, WORK_DIR, 'df_ac_1h')"
   ]
  },
  {
   "cell_type": "code",
   "execution_count": 61,
   "metadata": {},
   "outputs": [],
   "source": [
    "file_save(df_chem_in_1h, WORK_DIR, 'df_chem_in_1h')"
   ]
  },
  {
   "cell_type": "code",
   "execution_count": 62,
   "metadata": {},
   "outputs": [],
   "source": [
    "file_save(df_chem_fe2_1h, WORK_DIR, 'df_chem_fe2_1h')"
   ]
  },
  {
   "cell_type": "code",
   "execution_count": 49,
   "metadata": {},
   "outputs": [],
   "source": [
    "file_save(ds_full_1h, WORK_DIR, 'ds_full_1h')"
   ]
  },
  {
   "cell_type": "markdown",
   "metadata": {},
   "source": [
    "Загрузим ранее сохраненные данные, если не изменений ранее"
   ]
  },
  {
   "cell_type": "code",
   "execution_count": 21,
   "metadata": {},
   "outputs": [],
   "source": [
    "df_ac_1h = pd.read_csv(f'{WORK_DIR}\\df_ac_1h.zip', index_col=0, parse_dates=True)\n",
    "df_chem_in_1h = pd.read_csv(f'{WORK_DIR}\\df_chem_in_1h.zip', index_col=0, parse_dates=True)\n",
    "df_chem_fe2_1h = pd.read_csv(f'{WORK_DIR}\\df_chem_fe2_1h.zip', index_col=0, parse_dates=True)"
   ]
  },
  {
   "cell_type": "markdown",
   "metadata": {},
   "source": [
    "## Объединение данных в одну таблицу"
   ]
  },
  {
   "cell_type": "code",
   "execution_count": 22,
   "metadata": {},
   "outputs": [],
   "source": [
    "df1 = df_ac_1h.merge(df_chem_in_1h, how='inner', left_index=True, right_index=True)\n",
    "df1 = df1.merge(df_chem_fe2_1h, how='inner', left_index=True, right_index=True)\n",
    "df1 = df1.merge(ds_full_1h, how='inner', left_index=True, right_index=True)"
   ]
  },
  {
   "cell_type": "code",
   "execution_count": 23,
   "metadata": {},
   "outputs": [
    {
     "name": "stdout",
     "output_type": "stream",
     "text": [
      "<class 'pandas.core.frame.DataFrame'>\n",
      "DatetimeIndex: 23898 entries, 2019-01-01 07:00:00 to 2021-12-01 19:00:00\n",
      "Data columns (total 52 columns):\n",
      " #   Column             Non-Null Count  Dtype  \n",
      "---  ------             --------------  -----  \n",
      " 0   320PU101           23898 non-null  float64\n",
      " 1   320PU103           23898 non-null  float64\n",
      " 2   320RC101DIC02      23898 non-null  float64\n",
      " 3   330AC101FI06       23898 non-null  float64\n",
      " 4   330AC101FI07       23898 non-null  float64\n",
      " 5   330AC101FI08       23898 non-null  float64\n",
      " 6   330AC101FI09       23898 non-null  float64\n",
      " 7   330AC101FI10       23898 non-null  float64\n",
      " 8   330AC101FI51       23898 non-null  float64\n",
      " 9   330AC101FI52       23898 non-null  float64\n",
      " 10  330AC101FIC40      23898 non-null  float64\n",
      " 11  330AC101FICZ01     23898 non-null  float64\n",
      " 12  330AC101FICZ02     23898 non-null  float64\n",
      " 13  330AC101FICZ03     23898 non-null  float64\n",
      " 14  330AC101FICZ04     23898 non-null  float64\n",
      " 15  330AC101FICZ05     23898 non-null  float64\n",
      " 16  330AC101LICZ01     23898 non-null  float64\n",
      " 17  330AC101LICZ01.1   23898 non-null  float64\n",
      " 18  330AC101LICZ01.2   23898 non-null  float64\n",
      " 19  330AC101PI64       23898 non-null  float64\n",
      " 20  330AC101PI65       23898 non-null  float64\n",
      " 21  330AC101PIC63A     23898 non-null  float64\n",
      " 22  330AC101PIC63A.1   23898 non-null  float64\n",
      " 23  330AC101PIZ61      23898 non-null  float64\n",
      " 24  330AC101TIC01      23898 non-null  float64\n",
      " 25  330AC101TIC02      23898 non-null  float64\n",
      " 26  330AC101TIC03      23898 non-null  float64\n",
      " 27  330AC101TIC04      23898 non-null  float64\n",
      " 28  330AC101TIC05      23898 non-null  float64\n",
      " 29  330AC101TIZ61      23898 non-null  float64\n",
      " 30  330PT101PIZ01      23898 non-null  float64\n",
      " 31  330TK101LIC01      23898 non-null  float64\n",
      " 32  330TK101PI11       23898 non-null  float64\n",
      " 33  330TK101TI03       23898 non-null  float64\n",
      " 34  330TK101TIC02      23898 non-null  float64\n",
      " 35  330TK102LIC01      23898 non-null  float64\n",
      " 36  330TK102PI02       23898 non-null  float64\n",
      " 37  330TK102TIC02      23898 non-null  float64\n",
      " 38  380HX101FIC01      23898 non-null  float64\n",
      " 39  380HX101LIC01      23898 non-null  float64\n",
      " 40  380HX101PIC03      23898 non-null  float64\n",
      " 41   OXYGEN/OxyPurity  23898 non-null  float64\n",
      " 42  OXYGEN/OxyPurityB  23898 non-null  float64\n",
      " 43  Fe                 1050 non-null   float64\n",
      " 44  Stot               1169 non-null   float64\n",
      " 45  SO4                284 non-null    float64\n",
      " 46  As                 1054 non-null   float64\n",
      " 47  Corg               1160 non-null   float64\n",
      " 48  Ctot               1165 non-null   float64\n",
      " 49  Fe2+               23898 non-null  float64\n",
      " 50  D(S)               1543 non-null   float64\n",
      " 51  D(SL)              1003 non-null   float64\n",
      "dtypes: float64(52)\n",
      "memory usage: 9.7 MB\n"
     ]
    }
   ],
   "source": [
    "df1.info()"
   ]
  },
  {
   "cell_type": "markdown",
   "metadata": {},
   "source": [
    "Сдвинем данные по $Fe2+$ на 2 часа назад."
   ]
  },
  {
   "cell_type": "code",
   "execution_count": 24,
   "metadata": {},
   "outputs": [
    {
     "data": {
      "text/html": [
       "<div>\n",
       "<style scoped>\n",
       "    .dataframe tbody tr th:only-of-type {\n",
       "        vertical-align: middle;\n",
       "    }\n",
       "\n",
       "    .dataframe tbody tr th {\n",
       "        vertical-align: top;\n",
       "    }\n",
       "\n",
       "    .dataframe thead th {\n",
       "        text-align: right;\n",
       "    }\n",
       "</style>\n",
       "<table border=\"1\" class=\"dataframe\">\n",
       "  <thead>\n",
       "    <tr style=\"text-align: right;\">\n",
       "      <th></th>\n",
       "      <th>320PU101</th>\n",
       "      <th>320PU103</th>\n",
       "      <th>320RC101DIC02</th>\n",
       "      <th>330AC101FI06</th>\n",
       "      <th>330AC101FI07</th>\n",
       "      <th>330AC101FI08</th>\n",
       "      <th>330AC101FI09</th>\n",
       "      <th>330AC101FI10</th>\n",
       "      <th>330AC101FI51</th>\n",
       "      <th>330AC101FI52</th>\n",
       "      <th>...</th>\n",
       "      <th>OXYGEN/OxyPurityB</th>\n",
       "      <th>Fe</th>\n",
       "      <th>Stot</th>\n",
       "      <th>SO4</th>\n",
       "      <th>As</th>\n",
       "      <th>Corg</th>\n",
       "      <th>Ctot</th>\n",
       "      <th>Fe2+</th>\n",
       "      <th>D(S)</th>\n",
       "      <th>D(SL)</th>\n",
       "    </tr>\n",
       "  </thead>\n",
       "  <tbody>\n",
       "    <tr>\n",
       "      <th>2019-01-01 07:00:00</th>\n",
       "      <td>39.395000</td>\n",
       "      <td>0.0</td>\n",
       "      <td>1650.615707</td>\n",
       "      <td>18.998168</td>\n",
       "      <td>20.320517</td>\n",
       "      <td>15.469354</td>\n",
       "      <td>1.912728</td>\n",
       "      <td>0.004103</td>\n",
       "      <td>5308.464948</td>\n",
       "      <td>56.703037</td>\n",
       "      <td>...</td>\n",
       "      <td>0.0</td>\n",
       "      <td>NaN</td>\n",
       "      <td>NaN</td>\n",
       "      <td>NaN</td>\n",
       "      <td>NaN</td>\n",
       "      <td>NaN</td>\n",
       "      <td>NaN</td>\n",
       "      <td>1.23</td>\n",
       "      <td>3900.0</td>\n",
       "      <td>1600.0</td>\n",
       "    </tr>\n",
       "    <tr>\n",
       "      <th>2019-01-01 08:00:00</th>\n",
       "      <td>39.400556</td>\n",
       "      <td>0.0</td>\n",
       "      <td>1651.312554</td>\n",
       "      <td>18.982688</td>\n",
       "      <td>20.534195</td>\n",
       "      <td>15.498610</td>\n",
       "      <td>2.105368</td>\n",
       "      <td>0.001700</td>\n",
       "      <td>5308.080298</td>\n",
       "      <td>57.120547</td>\n",
       "      <td>...</td>\n",
       "      <td>0.0</td>\n",
       "      <td>NaN</td>\n",
       "      <td>NaN</td>\n",
       "      <td>NaN</td>\n",
       "      <td>NaN</td>\n",
       "      <td>NaN</td>\n",
       "      <td>NaN</td>\n",
       "      <td>1.45</td>\n",
       "      <td>NaN</td>\n",
       "      <td>NaN</td>\n",
       "    </tr>\n",
       "    <tr>\n",
       "      <th>2019-01-01 09:00:00</th>\n",
       "      <td>39.398333</td>\n",
       "      <td>0.0</td>\n",
       "      <td>1653.447314</td>\n",
       "      <td>19.088036</td>\n",
       "      <td>20.343886</td>\n",
       "      <td>15.712674</td>\n",
       "      <td>2.305624</td>\n",
       "      <td>0.025356</td>\n",
       "      <td>5307.429711</td>\n",
       "      <td>57.473187</td>\n",
       "      <td>...</td>\n",
       "      <td>0.0</td>\n",
       "      <td>NaN</td>\n",
       "      <td>NaN</td>\n",
       "      <td>NaN</td>\n",
       "      <td>NaN</td>\n",
       "      <td>NaN</td>\n",
       "      <td>NaN</td>\n",
       "      <td>1.45</td>\n",
       "      <td>NaN</td>\n",
       "      <td>NaN</td>\n",
       "    </tr>\n",
       "    <tr>\n",
       "      <th>2019-01-01 10:00:00</th>\n",
       "      <td>39.383333</td>\n",
       "      <td>0.0</td>\n",
       "      <td>1649.847311</td>\n",
       "      <td>18.950787</td>\n",
       "      <td>20.507571</td>\n",
       "      <td>15.410165</td>\n",
       "      <td>1.930532</td>\n",
       "      <td>0.084392</td>\n",
       "      <td>5310.106883</td>\n",
       "      <td>56.887133</td>\n",
       "      <td>...</td>\n",
       "      <td>0.0</td>\n",
       "      <td>NaN</td>\n",
       "      <td>NaN</td>\n",
       "      <td>NaN</td>\n",
       "      <td>NaN</td>\n",
       "      <td>NaN</td>\n",
       "      <td>NaN</td>\n",
       "      <td>1.11</td>\n",
       "      <td>NaN</td>\n",
       "      <td>NaN</td>\n",
       "    </tr>\n",
       "    <tr>\n",
       "      <th>2019-01-01 11:00:00</th>\n",
       "      <td>39.406111</td>\n",
       "      <td>0.0</td>\n",
       "      <td>1652.307998</td>\n",
       "      <td>18.859231</td>\n",
       "      <td>20.232325</td>\n",
       "      <td>15.529065</td>\n",
       "      <td>2.205978</td>\n",
       "      <td>0.056138</td>\n",
       "      <td>5313.755440</td>\n",
       "      <td>56.881265</td>\n",
       "      <td>...</td>\n",
       "      <td>0.0</td>\n",
       "      <td>NaN</td>\n",
       "      <td>NaN</td>\n",
       "      <td>NaN</td>\n",
       "      <td>NaN</td>\n",
       "      <td>NaN</td>\n",
       "      <td>NaN</td>\n",
       "      <td>1.11</td>\n",
       "      <td>NaN</td>\n",
       "      <td>NaN</td>\n",
       "    </tr>\n",
       "  </tbody>\n",
       "</table>\n",
       "<p>5 rows × 52 columns</p>\n",
       "</div>"
      ],
      "text/plain": [
       "                      320PU101  320PU103  320RC101DIC02  330AC101FI06  \\\n",
       "2019-01-01 07:00:00  39.395000       0.0    1650.615707     18.998168   \n",
       "2019-01-01 08:00:00  39.400556       0.0    1651.312554     18.982688   \n",
       "2019-01-01 09:00:00  39.398333       0.0    1653.447314     19.088036   \n",
       "2019-01-01 10:00:00  39.383333       0.0    1649.847311     18.950787   \n",
       "2019-01-01 11:00:00  39.406111       0.0    1652.307998     18.859231   \n",
       "\n",
       "                     330AC101FI07  330AC101FI08  330AC101FI09  330AC101FI10  \\\n",
       "2019-01-01 07:00:00     20.320517     15.469354      1.912728      0.004103   \n",
       "2019-01-01 08:00:00     20.534195     15.498610      2.105368      0.001700   \n",
       "2019-01-01 09:00:00     20.343886     15.712674      2.305624      0.025356   \n",
       "2019-01-01 10:00:00     20.507571     15.410165      1.930532      0.084392   \n",
       "2019-01-01 11:00:00     20.232325     15.529065      2.205978      0.056138   \n",
       "\n",
       "                     330AC101FI51  330AC101FI52  ...  OXYGEN/OxyPurityB  Fe  \\\n",
       "2019-01-01 07:00:00   5308.464948     56.703037  ...                0.0 NaN   \n",
       "2019-01-01 08:00:00   5308.080298     57.120547  ...                0.0 NaN   \n",
       "2019-01-01 09:00:00   5307.429711     57.473187  ...                0.0 NaN   \n",
       "2019-01-01 10:00:00   5310.106883     56.887133  ...                0.0 NaN   \n",
       "2019-01-01 11:00:00   5313.755440     56.881265  ...                0.0 NaN   \n",
       "\n",
       "                     Stot  SO4  As  Corg  Ctot  Fe2+    D(S)   D(SL)  \n",
       "2019-01-01 07:00:00   NaN  NaN NaN   NaN   NaN  1.23  3900.0  1600.0  \n",
       "2019-01-01 08:00:00   NaN  NaN NaN   NaN   NaN  1.45     NaN     NaN  \n",
       "2019-01-01 09:00:00   NaN  NaN NaN   NaN   NaN  1.45     NaN     NaN  \n",
       "2019-01-01 10:00:00   NaN  NaN NaN   NaN   NaN  1.11     NaN     NaN  \n",
       "2019-01-01 11:00:00   NaN  NaN NaN   NaN   NaN  1.11     NaN     NaN  \n",
       "\n",
       "[5 rows x 52 columns]"
      ]
     },
     "execution_count": 24,
     "metadata": {},
     "output_type": "execute_result"
    }
   ],
   "source": [
    "df1.head()"
   ]
  },
  {
   "cell_type": "code",
   "execution_count": 25,
   "metadata": {},
   "outputs": [],
   "source": [
    "df1['Fe2+'] = df1['Fe2+'].shift(-2)\n",
    "# df1.dropna(axis=0, inplace=True)"
   ]
  },
  {
   "cell_type": "code",
   "execution_count": 26,
   "metadata": {},
   "outputs": [
    {
     "data": {
      "text/html": [
       "<div>\n",
       "<style scoped>\n",
       "    .dataframe tbody tr th:only-of-type {\n",
       "        vertical-align: middle;\n",
       "    }\n",
       "\n",
       "    .dataframe tbody tr th {\n",
       "        vertical-align: top;\n",
       "    }\n",
       "\n",
       "    .dataframe thead th {\n",
       "        text-align: right;\n",
       "    }\n",
       "</style>\n",
       "<table border=\"1\" class=\"dataframe\">\n",
       "  <thead>\n",
       "    <tr style=\"text-align: right;\">\n",
       "      <th></th>\n",
       "      <th>320PU101</th>\n",
       "      <th>320PU103</th>\n",
       "      <th>320RC101DIC02</th>\n",
       "      <th>330AC101FI06</th>\n",
       "      <th>330AC101FI07</th>\n",
       "      <th>330AC101FI08</th>\n",
       "      <th>330AC101FI09</th>\n",
       "      <th>330AC101FI10</th>\n",
       "      <th>330AC101FI51</th>\n",
       "      <th>330AC101FI52</th>\n",
       "      <th>...</th>\n",
       "      <th>OXYGEN/OxyPurityB</th>\n",
       "      <th>Fe</th>\n",
       "      <th>Stot</th>\n",
       "      <th>SO4</th>\n",
       "      <th>As</th>\n",
       "      <th>Corg</th>\n",
       "      <th>Ctot</th>\n",
       "      <th>Fe2+</th>\n",
       "      <th>D(S)</th>\n",
       "      <th>D(SL)</th>\n",
       "    </tr>\n",
       "  </thead>\n",
       "  <tbody>\n",
       "    <tr>\n",
       "      <th>2019-01-01 07:00:00</th>\n",
       "      <td>39.395000</td>\n",
       "      <td>0.0</td>\n",
       "      <td>1650.615707</td>\n",
       "      <td>18.998168</td>\n",
       "      <td>20.320517</td>\n",
       "      <td>15.469354</td>\n",
       "      <td>1.912728</td>\n",
       "      <td>0.004103</td>\n",
       "      <td>5308.464948</td>\n",
       "      <td>56.703037</td>\n",
       "      <td>...</td>\n",
       "      <td>0.0</td>\n",
       "      <td>NaN</td>\n",
       "      <td>NaN</td>\n",
       "      <td>NaN</td>\n",
       "      <td>NaN</td>\n",
       "      <td>NaN</td>\n",
       "      <td>NaN</td>\n",
       "      <td>1.45</td>\n",
       "      <td>3900.0</td>\n",
       "      <td>1600.0</td>\n",
       "    </tr>\n",
       "    <tr>\n",
       "      <th>2019-01-01 08:00:00</th>\n",
       "      <td>39.400556</td>\n",
       "      <td>0.0</td>\n",
       "      <td>1651.312554</td>\n",
       "      <td>18.982688</td>\n",
       "      <td>20.534195</td>\n",
       "      <td>15.498610</td>\n",
       "      <td>2.105368</td>\n",
       "      <td>0.001700</td>\n",
       "      <td>5308.080298</td>\n",
       "      <td>57.120547</td>\n",
       "      <td>...</td>\n",
       "      <td>0.0</td>\n",
       "      <td>NaN</td>\n",
       "      <td>NaN</td>\n",
       "      <td>NaN</td>\n",
       "      <td>NaN</td>\n",
       "      <td>NaN</td>\n",
       "      <td>NaN</td>\n",
       "      <td>1.11</td>\n",
       "      <td>NaN</td>\n",
       "      <td>NaN</td>\n",
       "    </tr>\n",
       "    <tr>\n",
       "      <th>2019-01-01 09:00:00</th>\n",
       "      <td>39.398333</td>\n",
       "      <td>0.0</td>\n",
       "      <td>1653.447314</td>\n",
       "      <td>19.088036</td>\n",
       "      <td>20.343886</td>\n",
       "      <td>15.712674</td>\n",
       "      <td>2.305624</td>\n",
       "      <td>0.025356</td>\n",
       "      <td>5307.429711</td>\n",
       "      <td>57.473187</td>\n",
       "      <td>...</td>\n",
       "      <td>0.0</td>\n",
       "      <td>NaN</td>\n",
       "      <td>NaN</td>\n",
       "      <td>NaN</td>\n",
       "      <td>NaN</td>\n",
       "      <td>NaN</td>\n",
       "      <td>NaN</td>\n",
       "      <td>1.11</td>\n",
       "      <td>NaN</td>\n",
       "      <td>NaN</td>\n",
       "    </tr>\n",
       "    <tr>\n",
       "      <th>2019-01-01 10:00:00</th>\n",
       "      <td>39.383333</td>\n",
       "      <td>0.0</td>\n",
       "      <td>1649.847311</td>\n",
       "      <td>18.950787</td>\n",
       "      <td>20.507571</td>\n",
       "      <td>15.410165</td>\n",
       "      <td>1.930532</td>\n",
       "      <td>0.084392</td>\n",
       "      <td>5310.106883</td>\n",
       "      <td>56.887133</td>\n",
       "      <td>...</td>\n",
       "      <td>0.0</td>\n",
       "      <td>NaN</td>\n",
       "      <td>NaN</td>\n",
       "      <td>NaN</td>\n",
       "      <td>NaN</td>\n",
       "      <td>NaN</td>\n",
       "      <td>NaN</td>\n",
       "      <td>1.23</td>\n",
       "      <td>NaN</td>\n",
       "      <td>NaN</td>\n",
       "    </tr>\n",
       "    <tr>\n",
       "      <th>2019-01-01 11:00:00</th>\n",
       "      <td>39.406111</td>\n",
       "      <td>0.0</td>\n",
       "      <td>1652.307998</td>\n",
       "      <td>18.859231</td>\n",
       "      <td>20.232325</td>\n",
       "      <td>15.529065</td>\n",
       "      <td>2.205978</td>\n",
       "      <td>0.056138</td>\n",
       "      <td>5313.755440</td>\n",
       "      <td>56.881265</td>\n",
       "      <td>...</td>\n",
       "      <td>0.0</td>\n",
       "      <td>NaN</td>\n",
       "      <td>NaN</td>\n",
       "      <td>NaN</td>\n",
       "      <td>NaN</td>\n",
       "      <td>NaN</td>\n",
       "      <td>NaN</td>\n",
       "      <td>1.23</td>\n",
       "      <td>NaN</td>\n",
       "      <td>NaN</td>\n",
       "    </tr>\n",
       "  </tbody>\n",
       "</table>\n",
       "<p>5 rows × 52 columns</p>\n",
       "</div>"
      ],
      "text/plain": [
       "                      320PU101  320PU103  320RC101DIC02  330AC101FI06  \\\n",
       "2019-01-01 07:00:00  39.395000       0.0    1650.615707     18.998168   \n",
       "2019-01-01 08:00:00  39.400556       0.0    1651.312554     18.982688   \n",
       "2019-01-01 09:00:00  39.398333       0.0    1653.447314     19.088036   \n",
       "2019-01-01 10:00:00  39.383333       0.0    1649.847311     18.950787   \n",
       "2019-01-01 11:00:00  39.406111       0.0    1652.307998     18.859231   \n",
       "\n",
       "                     330AC101FI07  330AC101FI08  330AC101FI09  330AC101FI10  \\\n",
       "2019-01-01 07:00:00     20.320517     15.469354      1.912728      0.004103   \n",
       "2019-01-01 08:00:00     20.534195     15.498610      2.105368      0.001700   \n",
       "2019-01-01 09:00:00     20.343886     15.712674      2.305624      0.025356   \n",
       "2019-01-01 10:00:00     20.507571     15.410165      1.930532      0.084392   \n",
       "2019-01-01 11:00:00     20.232325     15.529065      2.205978      0.056138   \n",
       "\n",
       "                     330AC101FI51  330AC101FI52  ...  OXYGEN/OxyPurityB  Fe  \\\n",
       "2019-01-01 07:00:00   5308.464948     56.703037  ...                0.0 NaN   \n",
       "2019-01-01 08:00:00   5308.080298     57.120547  ...                0.0 NaN   \n",
       "2019-01-01 09:00:00   5307.429711     57.473187  ...                0.0 NaN   \n",
       "2019-01-01 10:00:00   5310.106883     56.887133  ...                0.0 NaN   \n",
       "2019-01-01 11:00:00   5313.755440     56.881265  ...                0.0 NaN   \n",
       "\n",
       "                     Stot  SO4  As  Corg  Ctot  Fe2+    D(S)   D(SL)  \n",
       "2019-01-01 07:00:00   NaN  NaN NaN   NaN   NaN  1.45  3900.0  1600.0  \n",
       "2019-01-01 08:00:00   NaN  NaN NaN   NaN   NaN  1.11     NaN     NaN  \n",
       "2019-01-01 09:00:00   NaN  NaN NaN   NaN   NaN  1.11     NaN     NaN  \n",
       "2019-01-01 10:00:00   NaN  NaN NaN   NaN   NaN  1.23     NaN     NaN  \n",
       "2019-01-01 11:00:00   NaN  NaN NaN   NaN   NaN  1.23     NaN     NaN  \n",
       "\n",
       "[5 rows x 52 columns]"
      ]
     },
     "execution_count": 26,
     "metadata": {},
     "output_type": "execute_result"
    }
   ],
   "source": [
    "df1.head()"
   ]
  },
  {
   "cell_type": "code",
   "execution_count": 27,
   "metadata": {},
   "outputs": [],
   "source": [
    "file_save(df1, WORK_DIR, 'df_total_ds_1h')"
   ]
  },
  {
   "cell_type": "markdown",
   "metadata": {},
   "source": [
    "### Проверим данные по исходникам"
   ]
  },
  {
   "cell_type": "code",
   "execution_count": null,
   "metadata": {},
   "outputs": [],
   "source": []
  }
 ],
 "metadata": {
  "interpreter": {
   "hash": "e4cce46d6be9934fbd27f9ca0432556941ea5bdf741d4f4d64c6cd7f8dfa8fba"
  },
  "kernelspec": {
   "display_name": "Python 3 (ipykernel)",
   "language": "python",
   "name": "python3"
  },
  "language_info": {
   "codemirror_mode": {
    "name": "ipython",
    "version": 3
   },
   "file_extension": ".py",
   "mimetype": "text/x-python",
   "name": "python",
   "nbconvert_exporter": "python",
   "pygments_lexer": "ipython3",
   "version": "3.8.12"
  }
 },
 "nbformat": 4,
 "nbformat_minor": 2
}
