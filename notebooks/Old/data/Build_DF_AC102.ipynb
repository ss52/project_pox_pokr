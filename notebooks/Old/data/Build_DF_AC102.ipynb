{
 "cells": [
  {
   "cell_type": "code",
   "execution_count": 42,
   "id": "316864df",
   "metadata": {},
   "outputs": [],
   "source": [
    "import pandas as pd\n",
    "import numpy as np\n",
    "import matplotlib.pyplot as plt\n",
    "import seaborn as sns\n",
    "\n",
    "\n",
    "from pathlib import Path\n",
    "\n",
    "from datetime import datetime"
   ]
  },
  {
   "cell_type": "code",
   "execution_count": 43,
   "id": "bb0f9df8",
   "metadata": {},
   "outputs": [],
   "source": [
    "ac_data = \"C:\\\\Users\\\\Laevskiy\\\\Desktop\\\\05-22\\\\merge102sortedbydate.xlsx\"\n",
    "chem_in = \"C:\\\\Users\\\\Laevskiy\\\\Desktop\\\\05-22\\\\!chem баки питания.xlsx\"\n",
    "chem_out = \"C:\\\\Users\\\\Laevskiy\\\\Desktop\\\\05-22\\\\!chem окисленная пульпа.xlsx\"\n",
    "chem_fe2 = \"C:\\\\Users\\\\Laevskiy\\\\Desktop\\\\05-22\\\\!chem Fe2+.xlsx\""
   ]
  },
  {
   "cell_type": "code",
   "execution_count": 83,
   "id": "15943988",
   "metadata": {},
   "outputs": [],
   "source": [
    "WORK_DIR = \"C:\\\\Users\\\\Laevskiy\\\\Desktop\\\\05-22\""
   ]
  },
  {
   "cell_type": "code",
   "execution_count": 84,
   "id": "c416a0ee",
   "metadata": {},
   "outputs": [],
   "source": [
    "def file_save(df: pd.DataFrame, folder: str, name: str) -> None:\n",
    "    comp = {\n",
    "        'method': 'zip',\n",
    "        'archive_name': 'out.csv'\n",
    "    }\n",
    "\n",
    "    filepath = Path(f'./{folder}/{name}.zip')\n",
    "\n",
    "    df.to_csv(filepath, compression=comp)"
   ]
  },
  {
   "cell_type": "markdown",
   "id": "6260c00a",
   "metadata": {},
   "source": [
    "## Подготовка данных"
   ]
  },
  {
   "cell_type": "markdown",
   "id": "646f7f94",
   "metadata": {},
   "source": [
    "### Данные АСУТП"
   ]
  },
  {
   "cell_type": "code",
   "execution_count": 46,
   "id": "654be91c",
   "metadata": {},
   "outputs": [],
   "source": [
    "df_ac = pd.read_excel(ac_data, index_col=1, parse_dates=True)\n",
    "df_ac.drop(\"Unnamed: 0\", axis=1, inplace=True)"
   ]
  },
  {
   "cell_type": "code",
   "execution_count": 47,
   "id": "14a75e24",
   "metadata": {},
   "outputs": [
    {
     "data": {
      "text/plain": [
       "320PU102              17\n",
       "320PU221              17\n",
       "320RC102DIC02         17\n",
       "330AC102FI06          17\n",
       "330AC102FI07          17\n",
       "330AC102FI08          17\n",
       "330AC102FI09          17\n",
       "330AC102FI10          17\n",
       "330AC102FI51          17\n",
       "330AC102FI52          17\n",
       "330AC102FIC40         17\n",
       "330AC102FICZ01        17\n",
       "330AC102FICZ02        17\n",
       "330AC102FICZ03        17\n",
       "330AC102FICZ04        17\n",
       "330AC102FICZ05        17\n",
       "330AC102LICZ01        17\n",
       "330AC102LICZ01.1      17\n",
       "330AC102LICZ01.2      17\n",
       "330AC102PI64          17\n",
       "330AC102PI65         933\n",
       "330AC102PIC63A        17\n",
       "330AC102PIC63A.1      17\n",
       "330AC102PIZ61         17\n",
       "330AC102TIC01         17\n",
       "330AC102TIC02         17\n",
       "330AC102TIC03         17\n",
       "330AC102TIC04         17\n",
       "330AC102TIC05         17\n",
       "330AC102TIZ61         17\n",
       "330PT103PIZ01         17\n",
       "330TK103LIC01         17\n",
       "330TK103PI11          17\n",
       "330TK103TI03          17\n",
       "330TK103TIC02         17\n",
       "330TK104LIC01         17\n",
       "330TK104PI02          17\n",
       "330TK104TIC02         17\n",
       "380HX103FIC01         17\n",
       "380HX103LIC01         17\n",
       "380HX103PIC03         17\n",
       "OXYGEN/OxyPurity      17\n",
       "OXYGEN/OxyPurityB     17\n",
       "dtype: int64"
      ]
     },
     "execution_count": 47,
     "metadata": {},
     "output_type": "execute_result"
    }
   ],
   "source": [
    "df_ac.isna().sum()"
   ]
  },
  {
   "cell_type": "markdown",
   "id": "aa69dcf6",
   "metadata": {},
   "source": [
    "Уберем пропуски"
   ]
  },
  {
   "cell_type": "code",
   "execution_count": 48,
   "id": "cddffe37",
   "metadata": {},
   "outputs": [],
   "source": [
    "df_ac.dropna(inplace=True)"
   ]
  },
  {
   "cell_type": "markdown",
   "id": "3683cb2a",
   "metadata": {},
   "source": [
    "Усредним все данные с 10 минутных до часовых. Для дальнейшей стыковки с данными ХА."
   ]
  },
  {
   "cell_type": "code",
   "execution_count": 49,
   "id": "7d5a8613",
   "metadata": {},
   "outputs": [],
   "source": [
    "df_ac_1h = df_ac.resample('H').mean()"
   ]
  },
  {
   "cell_type": "code",
   "execution_count": 50,
   "id": "063c3cf9",
   "metadata": {},
   "outputs": [
    {
     "name": "stdout",
     "output_type": "stream",
     "text": [
      "<class 'pandas.core.frame.DataFrame'>\n",
      "DatetimeIndex: 26146 entries, 2019-01-07 08:00:00 to 2021-12-31 17:00:00\n",
      "Freq: H\n",
      "Data columns (total 43 columns):\n",
      " #   Column             Non-Null Count  Dtype  \n",
      "---  ------             --------------  -----  \n",
      " 0   320PU102           24471 non-null  float64\n",
      " 1   320PU221           24471 non-null  float64\n",
      " 2   320RC102DIC02      24471 non-null  float64\n",
      " 3   330AC102FI06       24471 non-null  float64\n",
      " 4   330AC102FI07       24471 non-null  float64\n",
      " 5   330AC102FI08       24471 non-null  float64\n",
      " 6   330AC102FI09       24471 non-null  float64\n",
      " 7   330AC102FI10       24471 non-null  float64\n",
      " 8   330AC102FI51       24471 non-null  float64\n",
      " 9   330AC102FI52       24471 non-null  float64\n",
      " 10  330AC102FIC40      24471 non-null  float64\n",
      " 11  330AC102FICZ01     24471 non-null  float64\n",
      " 12  330AC102FICZ02     24471 non-null  float64\n",
      " 13  330AC102FICZ03     24471 non-null  float64\n",
      " 14  330AC102FICZ04     24471 non-null  float64\n",
      " 15  330AC102FICZ05     24471 non-null  float64\n",
      " 16  330AC102LICZ01     24471 non-null  float64\n",
      " 17  330AC102LICZ01.1   24471 non-null  float64\n",
      " 18  330AC102LICZ01.2   24471 non-null  float64\n",
      " 19  330AC102PI64       24471 non-null  float64\n",
      " 20  330AC102PI65       24471 non-null  float64\n",
      " 21  330AC102PIC63A     24471 non-null  float64\n",
      " 22  330AC102PIC63A.1   24471 non-null  float64\n",
      " 23  330AC102PIZ61      24471 non-null  float64\n",
      " 24  330AC102TIC01      24471 non-null  float64\n",
      " 25  330AC102TIC02      24471 non-null  float64\n",
      " 26  330AC102TIC03      24471 non-null  float64\n",
      " 27  330AC102TIC04      24471 non-null  float64\n",
      " 28  330AC102TIC05      24471 non-null  float64\n",
      " 29  330AC102TIZ61      24471 non-null  float64\n",
      " 30  330PT103PIZ01      24471 non-null  float64\n",
      " 31  330TK103LIC01      24471 non-null  float64\n",
      " 32  330TK103PI11       24471 non-null  float64\n",
      " 33  330TK103TI03       24471 non-null  float64\n",
      " 34  330TK103TIC02      24471 non-null  float64\n",
      " 35  330TK104LIC01      24471 non-null  float64\n",
      " 36  330TK104PI02       24471 non-null  float64\n",
      " 37  330TK104TIC02      24471 non-null  float64\n",
      " 38  380HX103FIC01      24471 non-null  float64\n",
      " 39  380HX103LIC01      24471 non-null  float64\n",
      " 40  380HX103PIC03      24471 non-null  float64\n",
      " 41  OXYGEN/OxyPurity   24471 non-null  float64\n",
      " 42  OXYGEN/OxyPurityB  24471 non-null  float64\n",
      "dtypes: float64(43)\n",
      "memory usage: 8.8 MB\n"
     ]
    }
   ],
   "source": [
    "df_ac_1h.info()"
   ]
  },
  {
   "cell_type": "markdown",
   "id": "0ea4c7d3",
   "metadata": {},
   "source": [
    "Некоторые даты пропущены в данных, уберем пропуски еще раз."
   ]
  },
  {
   "cell_type": "code",
   "execution_count": 51,
   "id": "92c3cd75",
   "metadata": {},
   "outputs": [],
   "source": [
    "df_ac_1h.dropna(inplace=True)"
   ]
  },
  {
   "cell_type": "markdown",
   "id": "31797265",
   "metadata": {},
   "source": [
    "### Данные исходного ХА по бакам питания"
   ]
  },
  {
   "cell_type": "code",
   "execution_count": 52,
   "id": "11b3b0aa",
   "metadata": {},
   "outputs": [],
   "source": [
    "df_chem_in = pd.read_excel(chem_in, index_col=0, parse_dates=True, usecols=\"B:H\")\n",
    "df_chem_in = df_chem_in.apply(pd.to_numeric, errors='coerce')\n",
    "df_chem_in.fillna(0, inplace=True)"
   ]
  },
  {
   "cell_type": "code",
   "execution_count": 53,
   "id": "afd2a048",
   "metadata": {},
   "outputs": [
    {
     "data": {
      "text/html": [
       "<div>\n",
       "<style scoped>\n",
       "    .dataframe tbody tr th:only-of-type {\n",
       "        vertical-align: middle;\n",
       "    }\n",
       "\n",
       "    .dataframe tbody tr th {\n",
       "        vertical-align: top;\n",
       "    }\n",
       "\n",
       "    .dataframe thead th {\n",
       "        text-align: right;\n",
       "    }\n",
       "</style>\n",
       "<table border=\"1\" class=\"dataframe\">\n",
       "  <thead>\n",
       "    <tr style=\"text-align: right;\">\n",
       "      <th></th>\n",
       "      <th>320 RC-101 S Fe</th>\n",
       "      <th>320 RC-101 S Sобщ</th>\n",
       "      <th>320 RC-101 S Sso42-</th>\n",
       "      <th>320 RC-101 S As</th>\n",
       "      <th>320 RC-101 S Сорг</th>\n",
       "      <th>320 RC-101 S Собщ</th>\n",
       "    </tr>\n",
       "    <tr>\n",
       "      <th>Timestamp</th>\n",
       "      <th></th>\n",
       "      <th></th>\n",
       "      <th></th>\n",
       "      <th></th>\n",
       "      <th></th>\n",
       "      <th></th>\n",
       "    </tr>\n",
       "  </thead>\n",
       "  <tbody>\n",
       "    <tr>\n",
       "      <th>2018-12-01 09:00:00</th>\n",
       "      <td>27.10</td>\n",
       "      <td>25.4</td>\n",
       "      <td>0.0</td>\n",
       "      <td>8.90</td>\n",
       "      <td>0.47</td>\n",
       "      <td>1.34</td>\n",
       "    </tr>\n",
       "    <tr>\n",
       "      <th>2018-12-02 09:00:00</th>\n",
       "      <td>25.99</td>\n",
       "      <td>26.9</td>\n",
       "      <td>0.0</td>\n",
       "      <td>7.95</td>\n",
       "      <td>0.50</td>\n",
       "      <td>1.33</td>\n",
       "    </tr>\n",
       "    <tr>\n",
       "      <th>2018-12-02 13:00:00</th>\n",
       "      <td>25.78</td>\n",
       "      <td>27.2</td>\n",
       "      <td>0.0</td>\n",
       "      <td>7.95</td>\n",
       "      <td>0.48</td>\n",
       "      <td>1.32</td>\n",
       "    </tr>\n",
       "    <tr>\n",
       "      <th>2018-12-02 17:00:00</th>\n",
       "      <td>26.71</td>\n",
       "      <td>26.2</td>\n",
       "      <td>0.0</td>\n",
       "      <td>8.38</td>\n",
       "      <td>0.43</td>\n",
       "      <td>1.22</td>\n",
       "    </tr>\n",
       "    <tr>\n",
       "      <th>2018-12-03 20:00:00</th>\n",
       "      <td>0.00</td>\n",
       "      <td>25.9</td>\n",
       "      <td>0.0</td>\n",
       "      <td>8.79</td>\n",
       "      <td>0.64</td>\n",
       "      <td>1.10</td>\n",
       "    </tr>\n",
       "  </tbody>\n",
       "</table>\n",
       "</div>"
      ],
      "text/plain": [
       "                     320 RC-101 S Fe   320 RC-101 S Sобщ  320 RC-101 S Sso42-  \\\n",
       "Timestamp                                                                       \n",
       "2018-12-01 09:00:00             27.10               25.4                  0.0   \n",
       "2018-12-02 09:00:00             25.99               26.9                  0.0   \n",
       "2018-12-02 13:00:00             25.78               27.2                  0.0   \n",
       "2018-12-02 17:00:00             26.71               26.2                  0.0   \n",
       "2018-12-03 20:00:00              0.00               25.9                  0.0   \n",
       "\n",
       "                     320 RC-101 S As  320 RC-101 S Сорг  320 RC-101 S Собщ  \n",
       "Timestamp                                                                   \n",
       "2018-12-01 09:00:00             8.90               0.47               1.34  \n",
       "2018-12-02 09:00:00             7.95               0.50               1.33  \n",
       "2018-12-02 13:00:00             7.95               0.48               1.32  \n",
       "2018-12-02 17:00:00             8.38               0.43               1.22  \n",
       "2018-12-03 20:00:00             8.79               0.64               1.10  "
      ]
     },
     "execution_count": 53,
     "metadata": {},
     "output_type": "execute_result"
    }
   ],
   "source": [
    "df_chem_in.head()"
   ]
  },
  {
   "cell_type": "code",
   "execution_count": 54,
   "id": "fe397a2a",
   "metadata": {},
   "outputs": [],
   "source": [
    "df_chem_in_1h = df_chem_in.resample('H', convention='start').first()"
   ]
  },
  {
   "cell_type": "code",
   "execution_count": 55,
   "id": "6f0d5029",
   "metadata": {},
   "outputs": [
    {
     "name": "stdout",
     "output_type": "stream",
     "text": [
      "<class 'pandas.core.frame.DataFrame'>\n",
      "DatetimeIndex: 29075 entries, 2018-12-01 09:00:00 to 2022-03-26 19:00:00\n",
      "Freq: H\n",
      "Data columns (total 6 columns):\n",
      " #   Column               Non-Null Count  Dtype  \n",
      "---  ------               --------------  -----  \n",
      " 0   320 RC-101 S Fe      1502 non-null   float64\n",
      " 1   320 RC-101 S Sобщ    1502 non-null   float64\n",
      " 2   320 RC-101 S Sso42-  1502 non-null   float64\n",
      " 3   320 RC-101 S As      1502 non-null   float64\n",
      " 4   320 RC-101 S Сорг    1502 non-null   float64\n",
      " 5   320 RC-101 S Собщ    1502 non-null   float64\n",
      "dtypes: float64(6)\n",
      "memory usage: 1.6 MB\n"
     ]
    }
   ],
   "source": [
    "df_chem_in_1h.info()"
   ]
  },
  {
   "cell_type": "code",
   "execution_count": 56,
   "id": "62564784",
   "metadata": {},
   "outputs": [],
   "source": [
    "cols = ['Fe', 'Stot', 'SO4', 'As', 'Corg', 'Ctot']\n",
    "df_chem_in_1h.columns = cols"
   ]
  },
  {
   "cell_type": "markdown",
   "id": "0babfd48",
   "metadata": {},
   "source": [
    "Приведем даты массивов к одному времени. Возьмем ХА только за те дни, что есть данные с АСУТП"
   ]
  },
  {
   "cell_type": "code",
   "execution_count": 57,
   "id": "9bbf8061",
   "metadata": {},
   "outputs": [],
   "source": [
    "min_date = datetime.fromisoformat('2019-01-01 00:00:00')\n",
    "max_date = datetime.fromisoformat('2021-12-31 17:00:00')\n",
    "\n",
    "df_chem_in_1h = df_chem_in_1h[min_date:max_date]"
   ]
  },
  {
   "cell_type": "markdown",
   "id": "3b4236c5",
   "metadata": {},
   "source": [
    "Уберем нулевые значения, а вместо них поставим np.nan"
   ]
  },
  {
   "cell_type": "code",
   "execution_count": 58,
   "id": "8606f080",
   "metadata": {},
   "outputs": [],
   "source": [
    "df_chem_in_1h.replace({0: np.NaN}, inplace=True)"
   ]
  },
  {
   "cell_type": "markdown",
   "id": "3d668f8a",
   "metadata": {},
   "source": [
    "### Данные ХА по Fe2+"
   ]
  },
  {
   "cell_type": "code",
   "execution_count": 59,
   "id": "cd946204",
   "metadata": {},
   "outputs": [],
   "source": [
    "df_chem_fe2 = pd.read_excel(chem_fe2, index_col=0, parse_dates=True, usecols=\"B,D\")\n",
    "# ispravit na nujnie stolbci\n",
    "df_chem_fe2 = df_chem_fe2.apply(pd.to_numeric, errors='coerce')\n",
    "df_chem_fe2.fillna(0, inplace=True)"
   ]
  },
  {
   "cell_type": "code",
   "execution_count": 60,
   "id": "bfd76467",
   "metadata": {},
   "outputs": [],
   "source": [
    "df_chem_fe2_1h = df_chem_fe2.resample('H').first()"
   ]
  },
  {
   "cell_type": "code",
   "execution_count": 61,
   "id": "5f7c5a7d",
   "metadata": {},
   "outputs": [
    {
     "name": "stdout",
     "output_type": "stream",
     "text": [
      "<class 'pandas.core.frame.DataFrame'>\n",
      "DatetimeIndex: 29237 entries, 2018-11-29 15:00:00 to 2022-03-31 19:00:00\n",
      "Freq: H\n",
      "Data columns (total 1 columns):\n",
      " #   Column             Non-Null Count  Dtype  \n",
      "---  ------             --------------  -----  \n",
      " 0   330-ТК-104 L Fe2+  14781 non-null  float64\n",
      "dtypes: float64(1)\n",
      "memory usage: 456.8 KB\n"
     ]
    }
   ],
   "source": [
    "df_chem_fe2_1h.info()"
   ]
  },
  {
   "cell_type": "code",
   "execution_count": 62,
   "id": "0908f90b",
   "metadata": {},
   "outputs": [],
   "source": [
    "df_chem_fe2_1h = df_chem_fe2_1h[min_date:max_date]"
   ]
  },
  {
   "cell_type": "code",
   "execution_count": 63,
   "id": "f5f28504",
   "metadata": {},
   "outputs": [],
   "source": [
    "df_chem_fe2_1h.fillna(method='ffill', inplace=True)"
   ]
  },
  {
   "cell_type": "code",
   "execution_count": 64,
   "id": "a77efed5",
   "metadata": {},
   "outputs": [],
   "source": [
    "cols = ['Fe2+']\n",
    "df_chem_fe2_1h.columns = cols"
   ]
  },
  {
   "cell_type": "markdown",
   "id": "d2ad0661",
   "metadata": {},
   "source": [
    "### Данные ОТК по плотностям твердого и питания автоклава¶"
   ]
  },
  {
   "cell_type": "code",
   "execution_count": 65,
   "id": "fb9ff7b8",
   "metadata": {},
   "outputs": [],
   "source": [
    "path_19 = \"C:\\\\Users\\\\Laevskiy\\\\Desktop\\\\05-22\\\\Nikitos19.xlsx\"\n",
    "path_20 = \"C:\\\\Users\\\\Laevskiy\\\\Desktop\\\\05-22\\\\Nikitos20.xlsx\"\n",
    "path_21 = \"C:\\\\Users\\\\Laevskiy\\\\Desktop\\\\05-22\\\\Nikitos21.xlsx\"\n",
    "\n",
    "ds_19 = pd.read_excel(path_19, sheet_name='AC102', usecols='B:D', index_col=0, parse_dates=True)\n",
    "ds_20 = pd.read_excel(path_20, sheet_name='AC102', usecols='B:D', index_col=0, parse_dates=True)\n",
    "ds_21 = pd.read_excel(path_21, sheet_name='AC102', usecols='B:D', index_col=0, parse_dates=True)"
   ]
  },
  {
   "cell_type": "code",
   "execution_count": 66,
   "id": "22dabbc2",
   "metadata": {},
   "outputs": [],
   "source": [
    "ds_full = pd.concat([ds_19, ds_20, ds_21])"
   ]
  },
  {
   "cell_type": "code",
   "execution_count": 67,
   "id": "d5b1101d",
   "metadata": {},
   "outputs": [],
   "source": [
    "assert(ds_19.shape[0] + ds_20.shape[0] + ds_21.shape[0] == ds_full.shape[0])"
   ]
  },
  {
   "cell_type": "code",
   "execution_count": 68,
   "id": "d7d91eb0",
   "metadata": {},
   "outputs": [],
   "source": [
    "ds_full = ds_full.apply(pd.to_numeric, errors='coerce')"
   ]
  },
  {
   "cell_type": "code",
   "execution_count": 69,
   "id": "ea782a95",
   "metadata": {},
   "outputs": [],
   "source": [
    "ds_full_1h = ds_full.resample('H', convention='start').first()"
   ]
  },
  {
   "cell_type": "code",
   "execution_count": 70,
   "id": "0dad966a",
   "metadata": {},
   "outputs": [
    {
     "name": "stdout",
     "output_type": "stream",
     "text": [
      "<class 'pandas.core.frame.DataFrame'>\n",
      "DatetimeIndex: 33133 entries, 2019-01-01 07:00:00 to 2022-10-12 19:00:00\n",
      "Freq: H\n",
      "Data columns (total 2 columns):\n",
      " #   Column  Non-Null Count  Dtype  \n",
      "---  ------  --------------  -----  \n",
      " 0   D(S)    1304 non-null   float64\n",
      " 1   D(SL)   1191 non-null   float64\n",
      "dtypes: float64(2)\n",
      "memory usage: 776.6 KB\n"
     ]
    }
   ],
   "source": [
    "ds_full_1h.info()"
   ]
  },
  {
   "cell_type": "markdown",
   "id": "ea0a1396",
   "metadata": {},
   "source": [
    "### Финальные проверки массивов данных"
   ]
  },
  {
   "cell_type": "code",
   "execution_count": 71,
   "id": "dc040b67",
   "metadata": {},
   "outputs": [
    {
     "name": "stdout",
     "output_type": "stream",
     "text": [
      "Начальная дата: 2019-01-01 00:00:00, конечная дата: 2021-12-31 17:00:00.\n",
      "Данные автоклава от: 2019-01-07 08:00:00 до 2021-12-31 17:00:00\n",
      "Данные баков питания от: 2019-01-01 00:00:00 до 2021-12-31 17:00:00\n",
      "Данные по железу 2+ от: 2019-01-01 00:00:00 до 2021-12-31 17:00:00\n",
      "Данные по плотности в баках питания от: 2019-01-01 07:00:00 до 2022-10-12 19:00:00\n",
      "Число точек по автоклаву 24471, по бакам питания 26298, по железу 26298 и по плотности 33133\n"
     ]
    }
   ],
   "source": [
    "print(f'Начальная дата: {min_date}, конечная дата: {max_date}.')\n",
    "\n",
    "print(f'Данные автоклава от: {df_ac_1h.index.min()} до {df_ac_1h.index.max()}')\n",
    "print(f'Данные баков питания от: {df_chem_in_1h.index.min()} до {df_chem_in_1h.index.max()}')\n",
    "print(f'Данные по железу 2+ от: {df_chem_fe2_1h.index.min()} до {df_chem_fe2_1h.index.max()}')\n",
    "print(f'Данные по плотности в баках питания от: {ds_full_1h.index.min()} до {ds_full_1h.index.max()}')\n",
    "\n",
    "\n",
    "print(f'Число точек по автоклаву {len(df_ac_1h)}, по бакам питания {len(df_chem_in_1h)}, по железу {len(df_chem_fe2_1h)} и по плотности {len(ds_full_1h)}')"
   ]
  },
  {
   "cell_type": "markdown",
   "id": "4ba61aa4",
   "metadata": {},
   "source": [
    "### Сохранение данных"
   ]
  },
  {
   "cell_type": "code",
   "execution_count": 85,
   "id": "d91c2ba4",
   "metadata": {},
   "outputs": [],
   "source": [
    "file_save(df_ac_1h, WORK_DIR, 'df_ac_1h')"
   ]
  },
  {
   "cell_type": "code",
   "execution_count": 86,
   "id": "fd381e03",
   "metadata": {},
   "outputs": [],
   "source": [
    "file_save(df_chem_in_1h, WORK_DIR, 'df_chem_in_1h')"
   ]
  },
  {
   "cell_type": "code",
   "execution_count": 87,
   "id": "7eeb5175",
   "metadata": {},
   "outputs": [],
   "source": [
    "file_save(df_chem_fe2_1h, WORK_DIR, 'df_chem_fe2_1h')"
   ]
  },
  {
   "cell_type": "code",
   "execution_count": 88,
   "id": "da01c0b9",
   "metadata": {},
   "outputs": [],
   "source": [
    "file_save(ds_full_1h, WORK_DIR, 'ds_full_1h')"
   ]
  },
  {
   "cell_type": "markdown",
   "id": "9b5d82c5",
   "metadata": {},
   "source": [
    "Загрузим ранее сохраненные данные, если не изменений ранее"
   ]
  },
  {
   "cell_type": "code",
   "execution_count": 89,
   "id": "91005dd9",
   "metadata": {},
   "outputs": [],
   "source": [
    "df_ac_1h = pd.read_csv(f'{WORK_DIR}\\df_ac_1h.zip', index_col=0, parse_dates=True)\n",
    "df_chem_in_1h = pd.read_csv(f'{WORK_DIR}\\df_chem_in_1h.zip', index_col=0, parse_dates=True)\n",
    "df_chem_fe2_1h = pd.read_csv(f'{WORK_DIR}\\df_chem_fe2_1h.zip', index_col=0, parse_dates=True)"
   ]
  },
  {
   "cell_type": "markdown",
   "id": "af1158cc",
   "metadata": {},
   "source": [
    "## Объединение данных в одну таблицу"
   ]
  },
  {
   "cell_type": "code",
   "execution_count": 90,
   "id": "d7950bdc",
   "metadata": {},
   "outputs": [],
   "source": [
    "df1 = df_ac_1h.merge(df_chem_in_1h, how='inner', left_index=True, right_index=True)\n",
    "df1 = df1.merge(df_chem_fe2_1h, how='inner', left_index=True, right_index=True)\n",
    "df1 = df1.merge(ds_full_1h, how='inner', left_index=True, right_index=True)"
   ]
  },
  {
   "cell_type": "code",
   "execution_count": 91,
   "id": "0701b532",
   "metadata": {},
   "outputs": [
    {
     "name": "stdout",
     "output_type": "stream",
     "text": [
      "<class 'pandas.core.frame.DataFrame'>\n",
      "DatetimeIndex: 24471 entries, 2019-01-07 08:00:00 to 2021-12-31 17:00:00\n",
      "Data columns (total 52 columns):\n",
      " #   Column             Non-Null Count  Dtype  \n",
      "---  ------             --------------  -----  \n",
      " 0   320PU102           24471 non-null  float64\n",
      " 1   320PU221           24471 non-null  float64\n",
      " 2   320RC102DIC02      24471 non-null  float64\n",
      " 3   330AC102FI06       24471 non-null  float64\n",
      " 4   330AC102FI07       24471 non-null  float64\n",
      " 5   330AC102FI08       24471 non-null  float64\n",
      " 6   330AC102FI09       24471 non-null  float64\n",
      " 7   330AC102FI10       24471 non-null  float64\n",
      " 8   330AC102FI51       24471 non-null  float64\n",
      " 9   330AC102FI52       24471 non-null  float64\n",
      " 10  330AC102FIC40      24471 non-null  float64\n",
      " 11  330AC102FICZ01     24471 non-null  float64\n",
      " 12  330AC102FICZ02     24471 non-null  float64\n",
      " 13  330AC102FICZ03     24471 non-null  float64\n",
      " 14  330AC102FICZ04     24471 non-null  float64\n",
      " 15  330AC102FICZ05     24471 non-null  float64\n",
      " 16  330AC102LICZ01     24471 non-null  float64\n",
      " 17  330AC102LICZ01.1   24471 non-null  float64\n",
      " 18  330AC102LICZ01.2   24471 non-null  float64\n",
      " 19  330AC102PI64       24471 non-null  float64\n",
      " 20  330AC102PI65       24471 non-null  float64\n",
      " 21  330AC102PIC63A     24471 non-null  float64\n",
      " 22  330AC102PIC63A.1   24471 non-null  float64\n",
      " 23  330AC102PIZ61      24471 non-null  float64\n",
      " 24  330AC102TIC01      24471 non-null  float64\n",
      " 25  330AC102TIC02      24471 non-null  float64\n",
      " 26  330AC102TIC03      24471 non-null  float64\n",
      " 27  330AC102TIC04      24471 non-null  float64\n",
      " 28  330AC102TIC05      24471 non-null  float64\n",
      " 29  330AC102TIZ61      24471 non-null  float64\n",
      " 30  330PT103PIZ01      24471 non-null  float64\n",
      " 31  330TK103LIC01      24471 non-null  float64\n",
      " 32  330TK103PI11       24471 non-null  float64\n",
      " 33  330TK103TI03       24471 non-null  float64\n",
      " 34  330TK103TIC02      24471 non-null  float64\n",
      " 35  330TK104LIC01      24471 non-null  float64\n",
      " 36  330TK104PI02       24471 non-null  float64\n",
      " 37  330TK104TIC02      24471 non-null  float64\n",
      " 38  380HX103FIC01      24471 non-null  float64\n",
      " 39  380HX103LIC01      24471 non-null  float64\n",
      " 40  380HX103PIC03      24471 non-null  float64\n",
      " 41  OXYGEN/OxyPurity   24471 non-null  float64\n",
      " 42  OXYGEN/OxyPurityB  24471 non-null  float64\n",
      " 43  Fe                 1100 non-null   float64\n",
      " 44  Stot               1220 non-null   float64\n",
      " 45  SO4                284 non-null    float64\n",
      " 46  As                 1105 non-null   float64\n",
      " 47  Corg               1210 non-null   float64\n",
      " 48  Ctot               1216 non-null   float64\n",
      " 49  Fe2+               24471 non-null  float64\n",
      " 50  D(S)               1273 non-null   float64\n",
      " 51  D(SL)              1160 non-null   float64\n",
      "dtypes: float64(52)\n",
      "memory usage: 9.9 MB\n"
     ]
    }
   ],
   "source": [
    "df1.info()"
   ]
  },
  {
   "cell_type": "code",
   "execution_count": 92,
   "id": "40db870d",
   "metadata": {},
   "outputs": [
    {
     "data": {
      "text/html": [
       "<div>\n",
       "<style scoped>\n",
       "    .dataframe tbody tr th:only-of-type {\n",
       "        vertical-align: middle;\n",
       "    }\n",
       "\n",
       "    .dataframe tbody tr th {\n",
       "        vertical-align: top;\n",
       "    }\n",
       "\n",
       "    .dataframe thead th {\n",
       "        text-align: right;\n",
       "    }\n",
       "</style>\n",
       "<table border=\"1\" class=\"dataframe\">\n",
       "  <thead>\n",
       "    <tr style=\"text-align: right;\">\n",
       "      <th></th>\n",
       "      <th>320PU102</th>\n",
       "      <th>320PU221</th>\n",
       "      <th>320RC102DIC02</th>\n",
       "      <th>330AC102FI06</th>\n",
       "      <th>330AC102FI07</th>\n",
       "      <th>330AC102FI08</th>\n",
       "      <th>330AC102FI09</th>\n",
       "      <th>330AC102FI10</th>\n",
       "      <th>330AC102FI51</th>\n",
       "      <th>330AC102FI52</th>\n",
       "      <th>...</th>\n",
       "      <th>OXYGEN/OxyPurityB</th>\n",
       "      <th>Fe</th>\n",
       "      <th>Stot</th>\n",
       "      <th>SO4</th>\n",
       "      <th>As</th>\n",
       "      <th>Corg</th>\n",
       "      <th>Ctot</th>\n",
       "      <th>Fe2+</th>\n",
       "      <th>D(S)</th>\n",
       "      <th>D(SL)</th>\n",
       "    </tr>\n",
       "  </thead>\n",
       "  <tbody>\n",
       "    <tr>\n",
       "      <th>2019-01-07 08:00:00</th>\n",
       "      <td>0.0</td>\n",
       "      <td>0.0</td>\n",
       "      <td>988.425903</td>\n",
       "      <td>-0.009983</td>\n",
       "      <td>0.019953</td>\n",
       "      <td>0.000000</td>\n",
       "      <td>-0.002894</td>\n",
       "      <td>0.002894</td>\n",
       "      <td>4950.000488</td>\n",
       "      <td>0.009898</td>\n",
       "      <td>...</td>\n",
       "      <td>0.0</td>\n",
       "      <td>NaN</td>\n",
       "      <td>NaN</td>\n",
       "      <td>NaN</td>\n",
       "      <td>NaN</td>\n",
       "      <td>NaN</td>\n",
       "      <td>NaN</td>\n",
       "      <td>0.0</td>\n",
       "      <td>NaN</td>\n",
       "      <td>NaN</td>\n",
       "    </tr>\n",
       "    <tr>\n",
       "      <th>2019-01-07 09:00:00</th>\n",
       "      <td>0.0</td>\n",
       "      <td>0.0</td>\n",
       "      <td>988.425903</td>\n",
       "      <td>-0.011309</td>\n",
       "      <td>0.020616</td>\n",
       "      <td>0.000000</td>\n",
       "      <td>-0.002894</td>\n",
       "      <td>0.002894</td>\n",
       "      <td>4950.000488</td>\n",
       "      <td>0.009203</td>\n",
       "      <td>...</td>\n",
       "      <td>0.0</td>\n",
       "      <td>NaN</td>\n",
       "      <td>NaN</td>\n",
       "      <td>NaN</td>\n",
       "      <td>NaN</td>\n",
       "      <td>NaN</td>\n",
       "      <td>NaN</td>\n",
       "      <td>0.0</td>\n",
       "      <td>NaN</td>\n",
       "      <td>NaN</td>\n",
       "    </tr>\n",
       "    <tr>\n",
       "      <th>2019-01-07 10:00:00</th>\n",
       "      <td>0.0</td>\n",
       "      <td>0.0</td>\n",
       "      <td>988.425903</td>\n",
       "      <td>-0.012683</td>\n",
       "      <td>0.021420</td>\n",
       "      <td>-0.000008</td>\n",
       "      <td>-0.002894</td>\n",
       "      <td>0.002894</td>\n",
       "      <td>4950.000488</td>\n",
       "      <td>0.008668</td>\n",
       "      <td>...</td>\n",
       "      <td>0.0</td>\n",
       "      <td>NaN</td>\n",
       "      <td>NaN</td>\n",
       "      <td>NaN</td>\n",
       "      <td>NaN</td>\n",
       "      <td>NaN</td>\n",
       "      <td>NaN</td>\n",
       "      <td>0.0</td>\n",
       "      <td>NaN</td>\n",
       "      <td>NaN</td>\n",
       "    </tr>\n",
       "    <tr>\n",
       "      <th>2019-01-07 11:00:00</th>\n",
       "      <td>0.0</td>\n",
       "      <td>0.0</td>\n",
       "      <td>988.425903</td>\n",
       "      <td>-0.011502</td>\n",
       "      <td>0.023771</td>\n",
       "      <td>0.000000</td>\n",
       "      <td>-0.002894</td>\n",
       "      <td>0.002894</td>\n",
       "      <td>4950.000488</td>\n",
       "      <td>0.012060</td>\n",
       "      <td>...</td>\n",
       "      <td>0.0</td>\n",
       "      <td>NaN</td>\n",
       "      <td>NaN</td>\n",
       "      <td>NaN</td>\n",
       "      <td>NaN</td>\n",
       "      <td>NaN</td>\n",
       "      <td>NaN</td>\n",
       "      <td>0.0</td>\n",
       "      <td>NaN</td>\n",
       "      <td>NaN</td>\n",
       "    </tr>\n",
       "    <tr>\n",
       "      <th>2019-01-07 12:00:00</th>\n",
       "      <td>0.0</td>\n",
       "      <td>0.0</td>\n",
       "      <td>988.425903</td>\n",
       "      <td>-0.010658</td>\n",
       "      <td>0.021340</td>\n",
       "      <td>0.000000</td>\n",
       "      <td>-0.002894</td>\n",
       "      <td>0.002894</td>\n",
       "      <td>4950.000488</td>\n",
       "      <td>0.010702</td>\n",
       "      <td>...</td>\n",
       "      <td>0.0</td>\n",
       "      <td>NaN</td>\n",
       "      <td>NaN</td>\n",
       "      <td>NaN</td>\n",
       "      <td>NaN</td>\n",
       "      <td>NaN</td>\n",
       "      <td>NaN</td>\n",
       "      <td>0.0</td>\n",
       "      <td>NaN</td>\n",
       "      <td>NaN</td>\n",
       "    </tr>\n",
       "  </tbody>\n",
       "</table>\n",
       "<p>5 rows × 52 columns</p>\n",
       "</div>"
      ],
      "text/plain": [
       "                     320PU102  320PU221  320RC102DIC02  330AC102FI06  \\\n",
       "2019-01-07 08:00:00       0.0       0.0     988.425903     -0.009983   \n",
       "2019-01-07 09:00:00       0.0       0.0     988.425903     -0.011309   \n",
       "2019-01-07 10:00:00       0.0       0.0     988.425903     -0.012683   \n",
       "2019-01-07 11:00:00       0.0       0.0     988.425903     -0.011502   \n",
       "2019-01-07 12:00:00       0.0       0.0     988.425903     -0.010658   \n",
       "\n",
       "                     330AC102FI07  330AC102FI08  330AC102FI09  330AC102FI10  \\\n",
       "2019-01-07 08:00:00      0.019953      0.000000     -0.002894      0.002894   \n",
       "2019-01-07 09:00:00      0.020616      0.000000     -0.002894      0.002894   \n",
       "2019-01-07 10:00:00      0.021420     -0.000008     -0.002894      0.002894   \n",
       "2019-01-07 11:00:00      0.023771      0.000000     -0.002894      0.002894   \n",
       "2019-01-07 12:00:00      0.021340      0.000000     -0.002894      0.002894   \n",
       "\n",
       "                     330AC102FI51  330AC102FI52  ...  OXYGEN/OxyPurityB  Fe  \\\n",
       "2019-01-07 08:00:00   4950.000488      0.009898  ...                0.0 NaN   \n",
       "2019-01-07 09:00:00   4950.000488      0.009203  ...                0.0 NaN   \n",
       "2019-01-07 10:00:00   4950.000488      0.008668  ...                0.0 NaN   \n",
       "2019-01-07 11:00:00   4950.000488      0.012060  ...                0.0 NaN   \n",
       "2019-01-07 12:00:00   4950.000488      0.010702  ...                0.0 NaN   \n",
       "\n",
       "                     Stot  SO4  As  Corg  Ctot  Fe2+  D(S)  D(SL)  \n",
       "2019-01-07 08:00:00   NaN  NaN NaN   NaN   NaN   0.0   NaN    NaN  \n",
       "2019-01-07 09:00:00   NaN  NaN NaN   NaN   NaN   0.0   NaN    NaN  \n",
       "2019-01-07 10:00:00   NaN  NaN NaN   NaN   NaN   0.0   NaN    NaN  \n",
       "2019-01-07 11:00:00   NaN  NaN NaN   NaN   NaN   0.0   NaN    NaN  \n",
       "2019-01-07 12:00:00   NaN  NaN NaN   NaN   NaN   0.0   NaN    NaN  \n",
       "\n",
       "[5 rows x 52 columns]"
      ]
     },
     "execution_count": 92,
     "metadata": {},
     "output_type": "execute_result"
    }
   ],
   "source": [
    "df1.head()"
   ]
  },
  {
   "cell_type": "markdown",
   "id": "9364f775",
   "metadata": {},
   "source": [
    "Сдвинем данные по  𝐹𝑒2+  на 2 часа назад."
   ]
  },
  {
   "cell_type": "code",
   "execution_count": 93,
   "id": "1f4d631c",
   "metadata": {},
   "outputs": [],
   "source": [
    "df1['Fe2+'] = df1['Fe2+'].shift(-2)"
   ]
  },
  {
   "cell_type": "code",
   "execution_count": 94,
   "id": "df2c65d1",
   "metadata": {},
   "outputs": [
    {
     "data": {
      "text/html": [
       "<div>\n",
       "<style scoped>\n",
       "    .dataframe tbody tr th:only-of-type {\n",
       "        vertical-align: middle;\n",
       "    }\n",
       "\n",
       "    .dataframe tbody tr th {\n",
       "        vertical-align: top;\n",
       "    }\n",
       "\n",
       "    .dataframe thead th {\n",
       "        text-align: right;\n",
       "    }\n",
       "</style>\n",
       "<table border=\"1\" class=\"dataframe\">\n",
       "  <thead>\n",
       "    <tr style=\"text-align: right;\">\n",
       "      <th></th>\n",
       "      <th>320PU102</th>\n",
       "      <th>320PU221</th>\n",
       "      <th>320RC102DIC02</th>\n",
       "      <th>330AC102FI06</th>\n",
       "      <th>330AC102FI07</th>\n",
       "      <th>330AC102FI08</th>\n",
       "      <th>330AC102FI09</th>\n",
       "      <th>330AC102FI10</th>\n",
       "      <th>330AC102FI51</th>\n",
       "      <th>330AC102FI52</th>\n",
       "      <th>...</th>\n",
       "      <th>OXYGEN/OxyPurityB</th>\n",
       "      <th>Fe</th>\n",
       "      <th>Stot</th>\n",
       "      <th>SO4</th>\n",
       "      <th>As</th>\n",
       "      <th>Corg</th>\n",
       "      <th>Ctot</th>\n",
       "      <th>Fe2+</th>\n",
       "      <th>D(S)</th>\n",
       "      <th>D(SL)</th>\n",
       "    </tr>\n",
       "  </thead>\n",
       "  <tbody>\n",
       "    <tr>\n",
       "      <th>2019-01-07 08:00:00</th>\n",
       "      <td>0.0</td>\n",
       "      <td>0.0</td>\n",
       "      <td>988.425903</td>\n",
       "      <td>-0.009983</td>\n",
       "      <td>0.019953</td>\n",
       "      <td>0.000000</td>\n",
       "      <td>-0.002894</td>\n",
       "      <td>0.002894</td>\n",
       "      <td>4950.000488</td>\n",
       "      <td>0.009898</td>\n",
       "      <td>...</td>\n",
       "      <td>0.0</td>\n",
       "      <td>NaN</td>\n",
       "      <td>NaN</td>\n",
       "      <td>NaN</td>\n",
       "      <td>NaN</td>\n",
       "      <td>NaN</td>\n",
       "      <td>NaN</td>\n",
       "      <td>0.0</td>\n",
       "      <td>NaN</td>\n",
       "      <td>NaN</td>\n",
       "    </tr>\n",
       "    <tr>\n",
       "      <th>2019-01-07 09:00:00</th>\n",
       "      <td>0.0</td>\n",
       "      <td>0.0</td>\n",
       "      <td>988.425903</td>\n",
       "      <td>-0.011309</td>\n",
       "      <td>0.020616</td>\n",
       "      <td>0.000000</td>\n",
       "      <td>-0.002894</td>\n",
       "      <td>0.002894</td>\n",
       "      <td>4950.000488</td>\n",
       "      <td>0.009203</td>\n",
       "      <td>...</td>\n",
       "      <td>0.0</td>\n",
       "      <td>NaN</td>\n",
       "      <td>NaN</td>\n",
       "      <td>NaN</td>\n",
       "      <td>NaN</td>\n",
       "      <td>NaN</td>\n",
       "      <td>NaN</td>\n",
       "      <td>0.0</td>\n",
       "      <td>NaN</td>\n",
       "      <td>NaN</td>\n",
       "    </tr>\n",
       "    <tr>\n",
       "      <th>2019-01-07 10:00:00</th>\n",
       "      <td>0.0</td>\n",
       "      <td>0.0</td>\n",
       "      <td>988.425903</td>\n",
       "      <td>-0.012683</td>\n",
       "      <td>0.021420</td>\n",
       "      <td>-0.000008</td>\n",
       "      <td>-0.002894</td>\n",
       "      <td>0.002894</td>\n",
       "      <td>4950.000488</td>\n",
       "      <td>0.008668</td>\n",
       "      <td>...</td>\n",
       "      <td>0.0</td>\n",
       "      <td>NaN</td>\n",
       "      <td>NaN</td>\n",
       "      <td>NaN</td>\n",
       "      <td>NaN</td>\n",
       "      <td>NaN</td>\n",
       "      <td>NaN</td>\n",
       "      <td>0.0</td>\n",
       "      <td>NaN</td>\n",
       "      <td>NaN</td>\n",
       "    </tr>\n",
       "    <tr>\n",
       "      <th>2019-01-07 11:00:00</th>\n",
       "      <td>0.0</td>\n",
       "      <td>0.0</td>\n",
       "      <td>988.425903</td>\n",
       "      <td>-0.011502</td>\n",
       "      <td>0.023771</td>\n",
       "      <td>0.000000</td>\n",
       "      <td>-0.002894</td>\n",
       "      <td>0.002894</td>\n",
       "      <td>4950.000488</td>\n",
       "      <td>0.012060</td>\n",
       "      <td>...</td>\n",
       "      <td>0.0</td>\n",
       "      <td>NaN</td>\n",
       "      <td>NaN</td>\n",
       "      <td>NaN</td>\n",
       "      <td>NaN</td>\n",
       "      <td>NaN</td>\n",
       "      <td>NaN</td>\n",
       "      <td>0.0</td>\n",
       "      <td>NaN</td>\n",
       "      <td>NaN</td>\n",
       "    </tr>\n",
       "    <tr>\n",
       "      <th>2019-01-07 12:00:00</th>\n",
       "      <td>0.0</td>\n",
       "      <td>0.0</td>\n",
       "      <td>988.425903</td>\n",
       "      <td>-0.010658</td>\n",
       "      <td>0.021340</td>\n",
       "      <td>0.000000</td>\n",
       "      <td>-0.002894</td>\n",
       "      <td>0.002894</td>\n",
       "      <td>4950.000488</td>\n",
       "      <td>0.010702</td>\n",
       "      <td>...</td>\n",
       "      <td>0.0</td>\n",
       "      <td>NaN</td>\n",
       "      <td>NaN</td>\n",
       "      <td>NaN</td>\n",
       "      <td>NaN</td>\n",
       "      <td>NaN</td>\n",
       "      <td>NaN</td>\n",
       "      <td>0.0</td>\n",
       "      <td>NaN</td>\n",
       "      <td>NaN</td>\n",
       "    </tr>\n",
       "  </tbody>\n",
       "</table>\n",
       "<p>5 rows × 52 columns</p>\n",
       "</div>"
      ],
      "text/plain": [
       "                     320PU102  320PU221  320RC102DIC02  330AC102FI06  \\\n",
       "2019-01-07 08:00:00       0.0       0.0     988.425903     -0.009983   \n",
       "2019-01-07 09:00:00       0.0       0.0     988.425903     -0.011309   \n",
       "2019-01-07 10:00:00       0.0       0.0     988.425903     -0.012683   \n",
       "2019-01-07 11:00:00       0.0       0.0     988.425903     -0.011502   \n",
       "2019-01-07 12:00:00       0.0       0.0     988.425903     -0.010658   \n",
       "\n",
       "                     330AC102FI07  330AC102FI08  330AC102FI09  330AC102FI10  \\\n",
       "2019-01-07 08:00:00      0.019953      0.000000     -0.002894      0.002894   \n",
       "2019-01-07 09:00:00      0.020616      0.000000     -0.002894      0.002894   \n",
       "2019-01-07 10:00:00      0.021420     -0.000008     -0.002894      0.002894   \n",
       "2019-01-07 11:00:00      0.023771      0.000000     -0.002894      0.002894   \n",
       "2019-01-07 12:00:00      0.021340      0.000000     -0.002894      0.002894   \n",
       "\n",
       "                     330AC102FI51  330AC102FI52  ...  OXYGEN/OxyPurityB  Fe  \\\n",
       "2019-01-07 08:00:00   4950.000488      0.009898  ...                0.0 NaN   \n",
       "2019-01-07 09:00:00   4950.000488      0.009203  ...                0.0 NaN   \n",
       "2019-01-07 10:00:00   4950.000488      0.008668  ...                0.0 NaN   \n",
       "2019-01-07 11:00:00   4950.000488      0.012060  ...                0.0 NaN   \n",
       "2019-01-07 12:00:00   4950.000488      0.010702  ...                0.0 NaN   \n",
       "\n",
       "                     Stot  SO4  As  Corg  Ctot  Fe2+  D(S)  D(SL)  \n",
       "2019-01-07 08:00:00   NaN  NaN NaN   NaN   NaN   0.0   NaN    NaN  \n",
       "2019-01-07 09:00:00   NaN  NaN NaN   NaN   NaN   0.0   NaN    NaN  \n",
       "2019-01-07 10:00:00   NaN  NaN NaN   NaN   NaN   0.0   NaN    NaN  \n",
       "2019-01-07 11:00:00   NaN  NaN NaN   NaN   NaN   0.0   NaN    NaN  \n",
       "2019-01-07 12:00:00   NaN  NaN NaN   NaN   NaN   0.0   NaN    NaN  \n",
       "\n",
       "[5 rows x 52 columns]"
      ]
     },
     "execution_count": 94,
     "metadata": {},
     "output_type": "execute_result"
    }
   ],
   "source": [
    "df1.head()"
   ]
  },
  {
   "cell_type": "code",
   "execution_count": 95,
   "id": "a1e43359",
   "metadata": {},
   "outputs": [],
   "source": [
    "file_save(df1, WORK_DIR, 'df_total_ds_1h')"
   ]
  },
  {
   "cell_type": "code",
   "execution_count": null,
   "id": "0e97b35a",
   "metadata": {},
   "outputs": [],
   "source": []
  }
 ],
 "metadata": {
  "kernelspec": {
   "display_name": "Python 3 (ipykernel)",
   "language": "python",
   "name": "python3"
  },
  "language_info": {
   "codemirror_mode": {
    "name": "ipython",
    "version": 3
   },
   "file_extension": ".py",
   "mimetype": "text/x-python",
   "name": "python",
   "nbconvert_exporter": "python",
   "pygments_lexer": "ipython3",
   "version": "3.10.4"
  }
 },
 "nbformat": 4,
 "nbformat_minor": 5
}
